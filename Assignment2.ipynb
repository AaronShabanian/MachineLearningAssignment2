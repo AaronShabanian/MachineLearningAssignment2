{
 "cells": [
  {
   "cell_type": "markdown",
   "id": "fa11651b",
   "metadata": {},
   "source": [
    "# Assignment 2\n",
    "## A binary classification example"
   ]
  },
  {
   "cell_type": "markdown",
   "id": "0be33455",
   "metadata": {},
   "source": [
    "loading dataset"
   ]
  },
  {
   "cell_type": "code",
   "execution_count": 196,
   "id": "c700cf54",
   "metadata": {},
   "outputs": [],
   "source": [
    "from tensorflow import keras\n",
    "from keras.datasets import imdb\n",
    "from keras import models\n",
    "from keras import layers\n",
    "from keras import losses\n",
    "from tensorflow.keras import optimizers\n",
    "from keras import metrics\n",
    "import matplotlib.pyplot as plt"
   ]
  },
  {
   "cell_type": "code",
   "execution_count": 197,
   "id": "b51f8b9c",
   "metadata": {},
   "outputs": [],
   "source": [
    "(train_data, train_labels), (test_data, test_labels)=imdb.load_data(num_words=10000)"
   ]
  },
  {
   "cell_type": "markdown",
   "id": "63ea93eb",
   "metadata": {},
   "source": [
    "turning list into tensors"
   ]
  },
  {
   "cell_type": "code",
   "execution_count": 198,
   "id": "830358c2",
   "metadata": {},
   "outputs": [],
   "source": [
    "import numpy as np"
   ]
  },
  {
   "cell_type": "code",
   "execution_count": 199,
   "id": "9422c8f3",
   "metadata": {},
   "outputs": [],
   "source": [
    "def vectorize_sequences(sequences, dimension=10000):\n",
    "    results = np.zeros((len(sequences), dimension))\n",
    "    for i, sequence in enumerate(sequences):\n",
    "        results[i, sequence] = 1\n",
    "    return results\n",
    "x_train=vectorize_sequences(train_data)\n",
    "x_test=vectorize_sequences(test_data)\n",
    "y_train = np.asarray(train_labels).astype('float32')\n",
    "y_test = np.asarray(test_labels).astype('float32')"
   ]
  },
  {
   "cell_type": "markdown",
   "id": "0be57fbe",
   "metadata": {},
   "source": [
    "Data is now ready to be fed into a nueral network"
   ]
  },
  {
   "cell_type": "code",
   "execution_count": 200,
   "id": "2c67575f",
   "metadata": {},
   "outputs": [],
   "source": [
    "model=models.Sequential()\n",
    "model.add(layers.Dense(16, activation = 'relu', input_shape=(10000,)))\n",
    "model.add(layers.Dense(16, activation = 'relu'))\n",
    "model.add(layers.Dense(1, activation= 'sigmoid'))"
   ]
  },
  {
   "cell_type": "markdown",
   "id": "c56f1eaa",
   "metadata": {},
   "source": [
    "Compiling the model"
   ]
  },
  {
   "cell_type": "code",
   "execution_count": 201,
   "id": "ac5f4d7e",
   "metadata": {},
   "outputs": [],
   "source": [
    "model.compile(optimizer='rmsprop', \n",
    "             loss='binarycrossentropy',\n",
    "             metrics=['accuracy'])\n",
    "model.compile(optimizer=optimizers.RMSprop(learning_rate=0.001), \n",
    "             loss =losses.binary_crossentropy, \n",
    "             metrics=[metrics.binary_accuracy])"
   ]
  },
  {
   "cell_type": "code",
   "execution_count": 202,
   "id": "97ff1ea3",
   "metadata": {},
   "outputs": [],
   "source": [
    "x_val=x_train[:10000]\n",
    "partial_x_train = x_train[10000:]\n",
    "y_val=y_train[:10000]\n",
    "partial_y_train = y_train[10000: ]\n"
   ]
  },
  {
   "cell_type": "code",
   "execution_count": 203,
   "id": "2be9868a",
   "metadata": {},
   "outputs": [],
   "source": [
    "model.compile(optimizer='rmsprop',\n",
    "             loss = 'binary_crossentropy',\n",
    "             metrics=['acc'])"
   ]
  },
  {
   "cell_type": "code",
   "execution_count": 204,
   "id": "59fdb4c1",
   "metadata": {},
   "outputs": [
    {
     "name": "stdout",
     "output_type": "stream",
     "text": [
      "Epoch 1/20\n",
      "30/30 [==============================] - 1s 28ms/step - loss: 0.5192 - acc: 0.7839 - val_loss: 0.3946 - val_acc: 0.8696\n",
      "Epoch 2/20\n",
      "30/30 [==============================] - 1s 22ms/step - loss: 0.3172 - acc: 0.9015 - val_loss: 0.3179 - val_acc: 0.8792\n",
      "Epoch 3/20\n",
      "30/30 [==============================] - 1s 22ms/step - loss: 0.2331 - acc: 0.9241 - val_loss: 0.3182 - val_acc: 0.8712\n",
      "Epoch 4/20\n",
      "30/30 [==============================] - 1s 21ms/step - loss: 0.1830 - acc: 0.9420 - val_loss: 0.2736 - val_acc: 0.8904\n",
      "Epoch 5/20\n",
      "30/30 [==============================] - 1s 21ms/step - loss: 0.1514 - acc: 0.9511 - val_loss: 0.2935 - val_acc: 0.8822\n",
      "Epoch 6/20\n",
      "30/30 [==============================] - 1s 21ms/step - loss: 0.1248 - acc: 0.9629 - val_loss: 0.2924 - val_acc: 0.8860\n",
      "Epoch 7/20\n",
      "30/30 [==============================] - 1s 21ms/step - loss: 0.1075 - acc: 0.9669 - val_loss: 0.3263 - val_acc: 0.8762\n",
      "Epoch 8/20\n",
      "30/30 [==============================] - 1s 21ms/step - loss: 0.0877 - acc: 0.9751 - val_loss: 0.3204 - val_acc: 0.8824\n",
      "Epoch 9/20\n",
      "30/30 [==============================] - 1s 21ms/step - loss: 0.0747 - acc: 0.9798 - val_loss: 0.3702 - val_acc: 0.8737\n",
      "Epoch 10/20\n",
      "30/30 [==============================] - 1s 21ms/step - loss: 0.0624 - acc: 0.9844 - val_loss: 0.3620 - val_acc: 0.8807\n",
      "Epoch 11/20\n",
      "30/30 [==============================] - 1s 21ms/step - loss: 0.0521 - acc: 0.9884 - val_loss: 0.3807 - val_acc: 0.8799\n",
      "Epoch 12/20\n",
      "30/30 [==============================] - 1s 21ms/step - loss: 0.0433 - acc: 0.9905 - val_loss: 0.4072 - val_acc: 0.8768\n",
      "Epoch 13/20\n",
      "30/30 [==============================] - 1s 21ms/step - loss: 0.0363 - acc: 0.9918 - val_loss: 0.4499 - val_acc: 0.8695\n",
      "Epoch 14/20\n",
      "30/30 [==============================] - 1s 21ms/step - loss: 0.0309 - acc: 0.9939 - val_loss: 0.4605 - val_acc: 0.8739\n",
      "Epoch 15/20\n",
      "30/30 [==============================] - 1s 21ms/step - loss: 0.0245 - acc: 0.9959 - val_loss: 0.4900 - val_acc: 0.8718\n",
      "Epoch 16/20\n",
      "30/30 [==============================] - 1s 21ms/step - loss: 0.0188 - acc: 0.9975 - val_loss: 0.5226 - val_acc: 0.8716\n",
      "Epoch 17/20\n",
      "30/30 [==============================] - 1s 21ms/step - loss: 0.0150 - acc: 0.9982 - val_loss: 0.5784 - val_acc: 0.8687\n",
      "Epoch 18/20\n",
      "30/30 [==============================] - 1s 21ms/step - loss: 0.0130 - acc: 0.9983 - val_loss: 0.6156 - val_acc: 0.8673\n",
      "Epoch 19/20\n",
      "30/30 [==============================] - 1s 21ms/step - loss: 0.0109 - acc: 0.9988 - val_loss: 0.6253 - val_acc: 0.8679\n",
      "Epoch 20/20\n",
      "30/30 [==============================] - 1s 21ms/step - loss: 0.0079 - acc: 0.9994 - val_loss: 0.6630 - val_acc: 0.8660\n",
      "782/782 [==============================] - 1s 2ms/step - loss: 0.7303 - acc: 0.8512\n"
     ]
    },
    {
     "data": {
      "text/plain": [
       "[0.7302570939064026, 0.8511999845504761]"
      ]
     },
     "execution_count": 204,
     "metadata": {},
     "output_type": "execute_result"
    }
   ],
   "source": [
    "history = model.fit(partial_x_train, \n",
    "                   partial_y_train, \n",
    "                   epochs=20, \n",
    "                   batch_size=512,\n",
    "                   validation_data=(x_val, y_val))\n",
    "results=model.evaluate(x_test, y_test)\n",
    "results"
   ]
  },
  {
   "cell_type": "markdown",
   "id": "0cb61538",
   "metadata": {},
   "source": [
    "Plotting Training and validation loss"
   ]
  },
  {
   "cell_type": "code",
   "execution_count": 205,
   "id": "0601e20b",
   "metadata": {
    "scrolled": true
   },
   "outputs": [
    {
     "data": {
      "image/png": "[encoded data removed]",
      "text/plain": [
       "<Figure size 432x288 with 1 Axes>"
      ]
     },
     "metadata": {
      "needs_background": "light"
     },
     "output_type": "display_data"
    }
   ],
   "source": [
    "history_dict = history.history\n",
    "loss_values = history_dict['loss']\n",
    "val_loss_values = history_dict['val_loss']\n",
    "epochs= range(1, 21)\n",
    "plt.plot(epochs, loss_values, 'bo', label='Training loss')\n",
    "plt.plot(epochs, val_loss_values, 'b', label='Validation loss')\n",
    "plt.title('Training and validation loss')\n",
    "plt.xlabel('Epochs')\n",
    "plt.ylabel('Loss')\n",
    "plt.legend()\n",
    "plt.show()"
   ]
  },
  {
   "cell_type": "markdown",
   "id": "57cd246d",
   "metadata": {},
   "source": [
    "Plot Training and Validation accuracy"
   ]
  },
  {
   "cell_type": "code",
   "execution_count": 206,
   "id": "a041688c",
   "metadata": {
    "scrolled": true
   },
   "outputs": [
    {
     "data": {
      "image/png": "[encoded data removed]",
      "text/plain": [
       "<Figure size 432x288 with 1 Axes>"
      ]
     },
     "metadata": {
      "needs_background": "light"
     },
     "output_type": "display_data"
    }
   ],
   "source": [
    "plt.clf()\n",
    "acc_values=history_dict['acc']\n",
    "val_acc_values = history_dict['val_acc']\n",
    "\n",
    "plt.plot(epochs, acc_values, 'bo', label='Training acc')\n",
    "plt.plot(epochs, val_acc_values, 'b', label='Validation acc')\n",
    "plt.title('Training and validation accuracy')\n",
    "plt.xlabel('Epochs')\n",
    "plt.ylabel('Loss')\n",
    "plt.legend()\n",
    "plt.show()"
   ]
  },
  {
   "cell_type": "markdown",
   "id": "8ccbf3a6",
   "metadata": {},
   "source": [
    "Retraining the model from scratch with 4 EPochs"
   ]
  },
  {
   "cell_type": "code",
   "execution_count": 207,
   "id": "95166bf1",
   "metadata": {},
   "outputs": [
    {
     "name": "stdout",
     "output_type": "stream",
     "text": [
      "Epoch 1/4\n",
      "49/49 [==============================] - 1s 14ms/step - loss: 0.4500 - accuracy: 0.8194\n",
      "Epoch 2/4\n",
      "49/49 [==============================] - 1s 14ms/step - loss: 0.2554 - accuracy: 0.9103\n",
      "Epoch 3/4\n",
      "49/49 [==============================] - 1s 14ms/step - loss: 0.1963 - accuracy: 0.9290\n",
      "Epoch 4/4\n",
      "49/49 [==============================] - 1s 14ms/step - loss: 0.1654 - accuracy: 0.9396\n",
      "782/782 [==============================] - 2s 2ms/step - loss: 0.2984 - accuracy: 0.8820\n"
     ]
    },
    {
     "data": {
      "text/plain": [
       "[0.2984038293361664, 0.8820400238037109]"
      ]
     },
     "execution_count": 207,
     "metadata": {},
     "output_type": "execute_result"
    }
   ],
   "source": [
    "model=models.Sequential()\n",
    "model.add(layers.Dense(16, activation = 'relu', input_shape=(10000,)))\n",
    "model.add(layers.Dense(16, activation = 'relu'))\n",
    "model.add(layers.Dense(1, activation= 'sigmoid'))\n",
    "model.compile(optimizer='rmsprop', \n",
    "             loss='binary_crossentropy',\n",
    "             metrics=['accuracy'])\n",
    "model.fit(x_train, y_train, epochs=4, batch_size=512)\n",
    "results=model.evaluate(x_test, y_test)\n",
    "results"
   ]
  },
  {
   "cell_type": "markdown",
   "id": "ff302aa8",
   "metadata": {},
   "source": [
    "Since this approach is more naive, I get a lower accuracy than I could have gotten"
   ]
  },
  {
   "cell_type": "markdown",
   "id": "e9eeac97",
   "metadata": {},
   "source": [
    "### Further expiriments\n",
    "1. Using 1 or 3 hidden layers instad of 2"
   ]
  },
  {
   "cell_type": "code",
   "execution_count": 208,
   "id": "1384b965",
   "metadata": {},
   "outputs": [
    {
     "name": "stdout",
     "output_type": "stream",
     "text": [
      "Epoch 1/20\n",
      "30/30 [==============================] - 1s 28ms/step - loss: 0.4870 - accuracy: 0.8039 - val_loss: 0.3758 - val_accuracy: 0.8748\n",
      "Epoch 2/20\n",
      "30/30 [==============================] - 1s 20ms/step - loss: 0.3073 - accuracy: 0.9029 - val_loss: 0.3372 - val_accuracy: 0.8648\n",
      "Epoch 3/20\n",
      "30/30 [==============================] - 1s 19ms/step - loss: 0.2408 - accuracy: 0.9237 - val_loss: 0.2977 - val_accuracy: 0.8832\n",
      "Epoch 4/20\n",
      "30/30 [==============================] - 1s 20ms/step - loss: 0.1983 - accuracy: 0.9391 - val_loss: 0.2876 - val_accuracy: 0.8854\n",
      "Epoch 5/20\n",
      "30/30 [==============================] - 1s 19ms/step - loss: 0.1678 - accuracy: 0.9497 - val_loss: 0.2733 - val_accuracy: 0.8912\n",
      "Epoch 6/20\n",
      "30/30 [==============================] - 1s 20ms/step - loss: 0.1443 - accuracy: 0.9575 - val_loss: 0.2773 - val_accuracy: 0.8874\n",
      "Epoch 7/20\n",
      "30/30 [==============================] - 1s 19ms/step - loss: 0.1257 - accuracy: 0.9632 - val_loss: 0.3074 - val_accuracy: 0.8817\n",
      "Epoch 8/20\n",
      "30/30 [==============================] - 1s 20ms/step - loss: 0.1105 - accuracy: 0.9695 - val_loss: 0.2918 - val_accuracy: 0.8860\n",
      "Epoch 9/20\n",
      "30/30 [==============================] - 1s 20ms/step - loss: 0.0976 - accuracy: 0.9743 - val_loss: 0.2991 - val_accuracy: 0.8855\n",
      "Epoch 10/20\n",
      "30/30 [==============================] - 1s 19ms/step - loss: 0.0865 - accuracy: 0.9786 - val_loss: 0.3170 - val_accuracy: 0.8795\n",
      "Epoch 11/20\n",
      "30/30 [==============================] - 1s 19ms/step - loss: 0.0760 - accuracy: 0.9823 - val_loss: 0.3217 - val_accuracy: 0.8820\n",
      "Epoch 12/20\n",
      "30/30 [==============================] - 1s 19ms/step - loss: 0.0681 - accuracy: 0.9847 - val_loss: 0.3379 - val_accuracy: 0.8776\n",
      "Epoch 13/20\n",
      "30/30 [==============================] - 1s 20ms/step - loss: 0.0590 - accuracy: 0.9883 - val_loss: 0.3515 - val_accuracy: 0.8770\n",
      "Epoch 14/20\n",
      "30/30 [==============================] - 1s 19ms/step - loss: 0.0532 - accuracy: 0.9887 - val_loss: 0.3679 - val_accuracy: 0.8790\n",
      "Epoch 15/20\n",
      "30/30 [==============================] - 1s 19ms/step - loss: 0.0461 - accuracy: 0.9917 - val_loss: 0.3875 - val_accuracy: 0.8708\n",
      "Epoch 16/20\n",
      "30/30 [==============================] - 1s 20ms/step - loss: 0.0408 - accuracy: 0.9927 - val_loss: 0.4029 - val_accuracy: 0.8713\n",
      "Epoch 17/20\n",
      "30/30 [==============================] - 1s 19ms/step - loss: 0.0366 - accuracy: 0.9943 - val_loss: 0.4209 - val_accuracy: 0.8754\n",
      "Epoch 18/20\n",
      "30/30 [==============================] - 1s 20ms/step - loss: 0.0306 - accuracy: 0.9955 - val_loss: 0.4345 - val_accuracy: 0.8729\n",
      "Epoch 19/20\n",
      "30/30 [==============================] - 1s 19ms/step - loss: 0.0273 - accuracy: 0.9963 - val_loss: 0.4553 - val_accuracy: 0.8708\n",
      "Epoch 20/20\n",
      "30/30 [==============================] - 1s 19ms/step - loss: 0.0238 - accuracy: 0.9969 - val_loss: 0.4796 - val_accuracy: 0.8718\n",
      "782/782 [==============================] - 1s 2ms/step - loss: 0.5147 - accuracy: 0.8577\n"
     ]
    },
    {
     "data": {
      "text/plain": [
       "[0.5147272348403931, 0.8577200174331665]"
      ]
     },
     "execution_count": 208,
     "metadata": {},
     "output_type": "execute_result"
    }
   ],
   "source": [
    "model=models.Sequential()\n",
    "model.add(layers.Dense(16, activation = 'relu', input_shape=(10000,)))\n",
    "model.add(layers.Dense(1, activation= 'sigmoid'))\n",
    "model.compile(optimizer='rmsprop', \n",
    "             loss='binary_crossentropy',\n",
    "             metrics=['accuracy'])\n",
    "history = model.fit(partial_x_train, \n",
    "                   partial_y_train, \n",
    "                   epochs=20, \n",
    "                   batch_size=512,\n",
    "                   validation_data=(x_val, y_val))\n",
    "results=model.evaluate(x_test, y_test)\n",
    "results"
   ]
  },
  {
   "cell_type": "code",
   "execution_count": 209,
   "id": "c0701ed7",
   "metadata": {},
   "outputs": [
    {
     "name": "stdout",
     "output_type": "stream",
     "text": [
      "Epoch 1/20\n",
      "30/30 [==============================] - 1s 24ms/step - loss: 0.5424 - accuracy: 0.7688 - val_loss: 0.3909 - val_accuracy: 0.8725\n",
      "Epoch 2/20\n",
      "30/30 [==============================] - 0s 16ms/step - loss: 0.3051 - accuracy: 0.9004 - val_loss: 0.3011 - val_accuracy: 0.8846\n",
      "Epoch 3/20\n",
      "30/30 [==============================] - 0s 16ms/step - loss: 0.2173 - accuracy: 0.9270 - val_loss: 0.2742 - val_accuracy: 0.8920\n",
      "Epoch 4/20\n",
      "30/30 [==============================] - 0s 16ms/step - loss: 0.1702 - accuracy: 0.9419 - val_loss: 0.3170 - val_accuracy: 0.8762\n",
      "Epoch 5/20\n",
      "30/30 [==============================] - 0s 16ms/step - loss: 0.1339 - accuracy: 0.9560 - val_loss: 0.2867 - val_accuracy: 0.8871\n",
      "Epoch 6/20\n",
      "30/30 [==============================] - 0s 16ms/step - loss: 0.1104 - accuracy: 0.9655 - val_loss: 0.3235 - val_accuracy: 0.8829\n",
      "Epoch 7/20\n",
      "30/30 [==============================] - 0s 17ms/step - loss: 0.0902 - accuracy: 0.9724 - val_loss: 0.3287 - val_accuracy: 0.8812\n",
      "Epoch 8/20\n",
      "30/30 [==============================] - 0s 17ms/step - loss: 0.0702 - accuracy: 0.9785 - val_loss: 0.3615 - val_accuracy: 0.8761\n",
      "Epoch 9/20\n",
      "30/30 [==============================] - 0s 16ms/step - loss: 0.0560 - accuracy: 0.9843 - val_loss: 0.3889 - val_accuracy: 0.8765\n",
      "Epoch 10/20\n",
      "30/30 [==============================] - 0s 16ms/step - loss: 0.0405 - accuracy: 0.9901 - val_loss: 0.4257 - val_accuracy: 0.8756\n",
      "Epoch 11/20\n",
      "30/30 [==============================] - 1s 17ms/step - loss: 0.0353 - accuracy: 0.9904 - val_loss: 0.4705 - val_accuracy: 0.8686\n",
      "Epoch 12/20\n",
      "30/30 [==============================] - 0s 16ms/step - loss: 0.0318 - accuracy: 0.9919 - val_loss: 0.4982 - val_accuracy: 0.8683\n",
      "Epoch 13/20\n",
      "30/30 [==============================] - 0s 17ms/step - loss: 0.0128 - accuracy: 0.9989 - val_loss: 0.5387 - val_accuracy: 0.8666\n",
      "Epoch 14/20\n",
      "30/30 [==============================] - 0s 17ms/step - loss: 0.0170 - accuracy: 0.9954 - val_loss: 0.5742 - val_accuracy: 0.8677\n",
      "Epoch 15/20\n",
      "30/30 [==============================] - 0s 17ms/step - loss: 0.0129 - accuracy: 0.9969 - val_loss: 0.6155 - val_accuracy: 0.8693\n",
      "Epoch 16/20\n",
      "30/30 [==============================] - 0s 16ms/step - loss: 0.0045 - accuracy: 0.9997 - val_loss: 0.6453 - val_accuracy: 0.8677\n",
      "Epoch 17/20\n",
      "30/30 [==============================] - 0s 17ms/step - loss: 0.0148 - accuracy: 0.9961 - val_loss: 0.6942 - val_accuracy: 0.8666\n",
      "Epoch 18/20\n",
      "30/30 [==============================] - 0s 16ms/step - loss: 0.0022 - accuracy: 0.9999 - val_loss: 0.7215 - val_accuracy: 0.8662\n",
      "Epoch 19/20\n",
      "30/30 [==============================] - 0s 16ms/step - loss: 0.0038 - accuracy: 0.9993 - val_loss: 0.8548 - val_accuracy: 0.8595\n",
      "Epoch 20/20\n",
      "30/30 [==============================] - 0s 15ms/step - loss: 0.0016 - accuracy: 0.9999 - val_loss: 0.7903 - val_accuracy: 0.8648\n",
      "782/782 [==============================] - 1s 1ms/step - loss: 0.8795 - accuracy: 0.8497\n"
     ]
    },
    {
     "data": {
      "text/plain": [
       "[0.8794543147087097, 0.8497200012207031]"
      ]
     },
     "execution_count": 209,
     "metadata": {},
     "output_type": "execute_result"
    }
   ],
   "source": [
    "model=models.Sequential()\n",
    "model.add(layers.Dense(16, activation = 'relu', input_shape=(10000,)))\n",
    "model.add(layers.Dense(16, activation = 'relu'))\n",
    "model.add(layers.Dense(16, activation = 'relu'))\n",
    "model.add(layers.Dense(1, activation= 'sigmoid'))\n",
    "model.compile(optimizer='rmsprop', \n",
    "             loss='binary_crossentropy',\n",
    "             metrics=['accuracy'])\n",
    "history = model.fit(partial_x_train, \n",
    "                   partial_y_train, \n",
    "                   epochs=20, \n",
    "                   batch_size=512,\n",
    "                   validation_data=(x_val, y_val))\n",
    "results=model.evaluate(x_test, y_test)\n",
    "results"
   ]
  },
  {
   "cell_type": "markdown",
   "id": "29abd4a3",
   "metadata": {},
   "source": [
    "2. Using Layers with hidden or fewer units: eg 32, 64"
   ]
  },
  {
   "cell_type": "markdown",
   "id": "fb6d1e7e",
   "metadata": {},
   "source": [
    "3. Using mse instead of binary_crossentropy"
   ]
  },
  {
   "cell_type": "markdown",
   "id": "377bb38d",
   "metadata": {},
   "source": [
    "4. Use tanh instead of relu in activation function"
   ]
  },
  {
   "cell_type": "markdown",
   "id": "9fa98dc1",
   "metadata": {},
   "source": [
    "## A Multiclass classification model"
   ]
  },
  {
   "cell_type": "code",
   "execution_count": 210,
   "id": "e981caee",
   "metadata": {},
   "outputs": [],
   "source": [
    "from keras.datasets import reuters\n",
    "(train_data, train_labels), (test_data, test_labels) = reuters.load_data(num_words=10000)"
   ]
  },
  {
   "cell_type": "code",
   "execution_count": 211,
   "id": "d7940cd9",
   "metadata": {},
   "outputs": [],
   "source": [
    "word_index = reuters.get_word_index()\n",
    "reverse_word_index = dict([(value, key) for (key, value) in word_index.items()])\n",
    "decoded_newswire = ' '.join([reverse_word_index.get(i - 3, '?') for i in train_data[0]])"
   ]
  },
  {
   "cell_type": "markdown",
   "id": "d082e3d4",
   "metadata": {},
   "source": [
    "Vectorizing is the same as the last example"
   ]
  },
  {
   "cell_type": "code",
   "execution_count": 212,
   "id": "1c238abb",
   "metadata": {},
   "outputs": [],
   "source": [
    "def vectorize_sequences(sequences, dimension=10000):\n",
    "    results = np.zeros((len(sequences), dimension))\n",
    "    for i, sequence in enumerate(sequences):\n",
    "        results[i, sequence] = 1.\n",
    "    return results\n",
    "x_train = vectorize_sequences(train_data)\n",
    "x_test = vectorize_sequences(test_data)"
   ]
  },
  {
   "cell_type": "code",
   "execution_count": 213,
   "id": "93da95d0",
   "metadata": {},
   "outputs": [],
   "source": [
    "from keras.utils.np_utils import to_categorical\n",
    "\n",
    "one_hot_train_labels = to_categorical(train_labels)\n",
    "one_hot_test_labels = to_categorical(test_labels)"
   ]
  },
  {
   "cell_type": "markdown",
   "id": "489c18a8",
   "metadata": {},
   "source": [
    "Building the model"
   ]
  },
  {
   "cell_type": "code",
   "execution_count": 214,
   "id": "c6b614d8",
   "metadata": {},
   "outputs": [],
   "source": [
    "model = models.Sequential()\n",
    "model.add(layers.Dense(64, activation='relu', input_shape=(10000,)))\n",
    "model.add(layers.Dense(64, activation='relu'))\n",
    "model.add(layers.Dense(46, activation='softmax'))"
   ]
  },
  {
   "cell_type": "markdown",
   "id": "600ac1a2",
   "metadata": {},
   "source": [
    "Compiling the model"
   ]
  },
  {
   "cell_type": "code",
   "execution_count": 215,
   "id": "90944fc2",
   "metadata": {},
   "outputs": [],
   "source": [
    "model.compile(optimizer='rmsprop',\n",
    "    loss='categorical_crossentropy',\n",
    "    metrics=['accuracy'])"
   ]
  },
  {
   "cell_type": "markdown",
   "id": "0596b3eb",
   "metadata": {},
   "source": [
    "Validation set"
   ]
  },
  {
   "cell_type": "code",
   "execution_count": 216,
   "id": "85c9aa89",
   "metadata": {},
   "outputs": [],
   "source": [
    "x_val = x_train[:1000]\n",
    "partial_x_train = x_train[1000:]\n",
    "y_val = one_hot_train_labels[:1000]\n",
    "partial_y_train = one_hot_train_labels[1000:]"
   ]
  },
  {
   "cell_type": "markdown",
   "id": "ca9971ce",
   "metadata": {},
   "source": [
    "Training the model\n"
   ]
  },
  {
   "cell_type": "code",
   "execution_count": 217,
   "id": "342acd10",
   "metadata": {},
   "outputs": [
    {
     "name": "stdout",
     "output_type": "stream",
     "text": [
      "Epoch 1/20\n",
      "16/16 [==============================] - 1s 26ms/step - loss: 2.6281 - accuracy: 0.5198 - val_loss: 1.7193 - val_accuracy: 0.6440\n",
      "Epoch 2/20\n",
      "16/16 [==============================] - 0s 18ms/step - loss: 1.4026 - accuracy: 0.7100 - val_loss: 1.2812 - val_accuracy: 0.7240\n",
      "Epoch 3/20\n",
      "16/16 [==============================] - 0s 18ms/step - loss: 1.0329 - accuracy: 0.7775 - val_loss: 1.1150 - val_accuracy: 0.7560\n",
      "Epoch 4/20\n",
      "16/16 [==============================] - 0s 18ms/step - loss: 0.8139 - accuracy: 0.8244 - val_loss: 1.0176 - val_accuracy: 0.7890\n",
      "Epoch 5/20\n",
      "16/16 [==============================] - 0s 18ms/step - loss: 0.6480 - accuracy: 0.8654 - val_loss: 0.9623 - val_accuracy: 0.7930\n",
      "Epoch 6/20\n",
      "16/16 [==============================] - 0s 17ms/step - loss: 0.5203 - accuracy: 0.8934 - val_loss: 0.9117 - val_accuracy: 0.8140\n",
      "Epoch 7/20\n",
      "16/16 [==============================] - 0s 18ms/step - loss: 0.4134 - accuracy: 0.9167 - val_loss: 0.9040 - val_accuracy: 0.8010\n",
      "Epoch 8/20\n",
      "16/16 [==============================] - 0s 17ms/step - loss: 0.3437 - accuracy: 0.9293 - val_loss: 0.8903 - val_accuracy: 0.8100\n",
      "Epoch 9/20\n",
      "16/16 [==============================] - 0s 18ms/step - loss: 0.2808 - accuracy: 0.9387 - val_loss: 0.8862 - val_accuracy: 0.8170\n",
      "Epoch 10/20\n",
      "16/16 [==============================] - 0s 18ms/step - loss: 0.2374 - accuracy: 0.9461 - val_loss: 0.8839 - val_accuracy: 0.8140\n",
      "Epoch 11/20\n",
      "16/16 [==============================] - 0s 18ms/step - loss: 0.2058 - accuracy: 0.9489 - val_loss: 0.9091 - val_accuracy: 0.8100\n",
      "Epoch 12/20\n",
      "16/16 [==============================] - 0s 18ms/step - loss: 0.1809 - accuracy: 0.9535 - val_loss: 0.9400 - val_accuracy: 0.8000\n",
      "Epoch 13/20\n",
      "16/16 [==============================] - 0s 17ms/step - loss: 0.1618 - accuracy: 0.9538 - val_loss: 0.9270 - val_accuracy: 0.8190\n",
      "Epoch 14/20\n",
      "16/16 [==============================] - 0s 21ms/step - loss: 0.1471 - accuracy: 0.9575 - val_loss: 0.9605 - val_accuracy: 0.8000\n",
      "Epoch 15/20\n",
      "16/16 [==============================] - 0s 17ms/step - loss: 0.1423 - accuracy: 0.9539 - val_loss: 0.9812 - val_accuracy: 0.8030\n",
      "Epoch 16/20\n",
      "16/16 [==============================] - 0s 18ms/step - loss: 0.1341 - accuracy: 0.9545 - val_loss: 0.9995 - val_accuracy: 0.8030\n",
      "Epoch 17/20\n",
      "16/16 [==============================] - 0s 17ms/step - loss: 0.1268 - accuracy: 0.9575 - val_loss: 1.0025 - val_accuracy: 0.8040\n",
      "Epoch 18/20\n",
      "16/16 [==============================] - 0s 18ms/step - loss: 0.1211 - accuracy: 0.9554 - val_loss: 1.0650 - val_accuracy: 0.7990\n",
      "Epoch 19/20\n",
      "16/16 [==============================] - 0s 18ms/step - loss: 0.1152 - accuracy: 0.9564 - val_loss: 1.1097 - val_accuracy: 0.7940\n",
      "Epoch 20/20\n",
      "16/16 [==============================] - 0s 16ms/step - loss: 0.1115 - accuracy: 0.9559 - val_loss: 1.0530 - val_accuracy: 0.7980\n"
     ]
    }
   ],
   "source": [
    "history = model.fit(partial_x_train,\n",
    "                    partial_y_train,\n",
    "                    epochs=20,\n",
    "                    batch_size=512,\n",
    "                    validation_data=(x_val, y_val))"
   ]
  },
  {
   "cell_type": "markdown",
   "id": "9a198abf",
   "metadata": {},
   "source": [
    "Plotting training and validation loss"
   ]
  },
  {
   "cell_type": "code",
   "execution_count": 218,
   "id": "1dfdcc19",
   "metadata": {},
   "outputs": [
    {
     "data": {
      "image/png": "[encoded data removed]",
      "text/plain": [
       "<Figure size 432x288 with 1 Axes>"
      ]
     },
     "metadata": {
      "needs_background": "light"
     },
     "output_type": "display_data"
    }
   ],
   "source": [
    "loss = history.history['loss']\n",
    "val_loss = history.history['val_loss']\n",
    "epochs = range(1, len(loss) + 1)\n",
    "plt.plot(epochs, loss, 'bo', label='Training loss')\n",
    "plt.plot(epochs, val_loss, 'b', label='Validation loss')\n",
    "plt.title('Training and validation loss')\n",
    "plt.xlabel('Epochs')\n",
    "plt.ylabel('Loss')\n",
    "plt.legend()\n",
    "plt.show()"
   ]
  },
  {
   "cell_type": "markdown",
   "id": "b2549f2b",
   "metadata": {},
   "source": [
    "Plotting training and validation accuracy"
   ]
  },
  {
   "cell_type": "code",
   "execution_count": 219,
   "id": "05330f84",
   "metadata": {},
   "outputs": [
    {
     "data": {
      "image/png": "[encoded data removed]",
      "text/plain": [
       "<Figure size 432x288 with 1 Axes>"
      ]
     },
     "metadata": {
      "needs_background": "light"
     },
     "output_type": "display_data"
    }
   ],
   "source": [
    "plt.clf()\n",
    "acc = history.history['accuracy']\n",
    "val_acc = history.history['val_accuracy']\n",
    "plt.plot(epochs, acc, 'bo', label='Training acc')\n",
    "plt.plot(epochs, val_acc, 'b', label='Validation acc')\n",
    "plt.title('Training and validation accuracy')\n",
    "plt.xlabel('Epochs')\n",
    "plt.ylabel('Loss')\n",
    "plt.legend()\n",
    "plt.show()"
   ]
  },
  {
   "cell_type": "markdown",
   "id": "25110b84",
   "metadata": {},
   "source": [
    "Retraining the model"
   ]
  },
  {
   "cell_type": "code",
   "execution_count": 220,
   "id": "7f1397bc",
   "metadata": {},
   "outputs": [
    {
     "name": "stdout",
     "output_type": "stream",
     "text": [
      "Epoch 1/9\n",
      "16/16 [==============================] - 1s 23ms/step - loss: 2.5528 - accuracy: 0.5575 - val_loss: 1.6934 - val_accuracy: 0.6660\n",
      "Epoch 2/9\n",
      "16/16 [==============================] - 0s 18ms/step - loss: 1.3772 - accuracy: 0.7235 - val_loss: 1.2883 - val_accuracy: 0.7210\n",
      "Epoch 3/9\n",
      "16/16 [==============================] - 0s 17ms/step - loss: 1.0234 - accuracy: 0.7845 - val_loss: 1.1304 - val_accuracy: 0.7520\n",
      "Epoch 4/9\n",
      "16/16 [==============================] - 0s 17ms/step - loss: 0.8096 - accuracy: 0.8280 - val_loss: 1.0374 - val_accuracy: 0.7770\n",
      "Epoch 5/9\n",
      "16/16 [==============================] - 0s 19ms/step - loss: 0.6472 - accuracy: 0.8661 - val_loss: 0.9776 - val_accuracy: 0.7820\n",
      "Epoch 6/9\n",
      "16/16 [==============================] - 0s 19ms/step - loss: 0.5177 - accuracy: 0.8940 - val_loss: 0.9346 - val_accuracy: 0.8100\n",
      "Epoch 7/9\n",
      "16/16 [==============================] - 0s 17ms/step - loss: 0.4263 - accuracy: 0.9118 - val_loss: 0.9222 - val_accuracy: 0.8040\n",
      "Epoch 8/9\n",
      "16/16 [==============================] - 0s 17ms/step - loss: 0.3415 - accuracy: 0.9283 - val_loss: 0.9161 - val_accuracy: 0.8150\n",
      "Epoch 9/9\n",
      "16/16 [==============================] - 0s 14ms/step - loss: 0.2886 - accuracy: 0.9391 - val_loss: 0.9133 - val_accuracy: 0.8060\n",
      "71/71 [==============================] - 0s 2ms/step - loss: 0.9802 - accuracy: 0.7872\n"
     ]
    },
    {
     "data": {
      "text/plain": [
       "[0.980243980884552, 0.7871772050857544]"
      ]
     },
     "execution_count": 220,
     "metadata": {},
     "output_type": "execute_result"
    }
   ],
   "source": [
    "model = models.Sequential()\n",
    "model.add(layers.Dense(64, activation='relu', input_shape=(10000,)))\n",
    "model.add(layers.Dense(64, activation='relu'))\n",
    "model.add(layers.Dense(46, activation='softmax'))\n",
    "model.compile(optimizer='rmsprop',\n",
    "                loss='categorical_crossentropy',\n",
    "                metrics=['accuracy'])\n",
    "model.fit(partial_x_train,\n",
    "partial_y_train,\n",
    "epochs=9,\n",
    "batch_size=512,\n",
    "validation_data=(x_val, y_val))\n",
    "results = model.evaluate(x_test, one_hot_test_labels)\n",
    "results"
   ]
  },
  {
   "cell_type": "markdown",
   "id": "c755cee0",
   "metadata": {},
   "source": [
    "This is better than random gues which would be around 50% but this is closer to 78%\n",
    "\n",
    "Generating predictions"
   ]
  },
  {
   "cell_type": "code",
   "execution_count": 221,
   "id": "e019f308",
   "metadata": {},
   "outputs": [],
   "source": [
    "predictions = model.predict(x_test)"
   ]
  },
  {
   "cell_type": "markdown",
   "id": "38fc651b",
   "metadata": {},
   "source": [
    "Bottleneck information "
   ]
  },
  {
   "cell_type": "code",
   "execution_count": 222,
   "id": "b9ec3a6f",
   "metadata": {},
   "outputs": [
    {
     "name": "stdout",
     "output_type": "stream",
     "text": [
      "Epoch 1/20\n",
      "63/63 [==============================] - 1s 11ms/step - loss: 3.2809 - accuracy: 0.0332 - val_loss: 2.6950 - val_accuracy: 0.1180\n",
      "Epoch 2/20\n",
      "63/63 [==============================] - 1s 9ms/step - loss: 2.0781 - accuracy: 0.5093 - val_loss: 1.7368 - val_accuracy: 0.5560\n",
      "Epoch 3/20\n",
      "63/63 [==============================] - 1s 9ms/step - loss: 1.4803 - accuracy: 0.5907 - val_loss: 1.5002 - val_accuracy: 0.6000\n",
      "Epoch 4/20\n",
      "63/63 [==============================] - 1s 9ms/step - loss: 1.2671 - accuracy: 0.6510 - val_loss: 1.4068 - val_accuracy: 0.6300\n",
      "Epoch 5/20\n",
      "63/63 [==============================] - 1s 9ms/step - loss: 1.1184 - accuracy: 0.6888 - val_loss: 1.3488 - val_accuracy: 0.6670\n",
      "Epoch 6/20\n",
      "63/63 [==============================] - 1s 9ms/step - loss: 0.9950 - accuracy: 0.7497 - val_loss: 1.3023 - val_accuracy: 0.6940\n",
      "Epoch 7/20\n",
      "63/63 [==============================] - 1s 9ms/step - loss: 0.8883 - accuracy: 0.7843 - val_loss: 1.2697 - val_accuracy: 0.7150\n",
      "Epoch 8/20\n",
      "63/63 [==============================] - 1s 9ms/step - loss: 0.8040 - accuracy: 0.7989 - val_loss: 1.2667 - val_accuracy: 0.7210\n",
      "Epoch 9/20\n",
      "63/63 [==============================] - 1s 9ms/step - loss: 0.7382 - accuracy: 0.8076 - val_loss: 1.3100 - val_accuracy: 0.7200\n",
      "Epoch 10/20\n",
      "63/63 [==============================] - 1s 9ms/step - loss: 0.6828 - accuracy: 0.8127 - val_loss: 1.3162 - val_accuracy: 0.7210\n",
      "Epoch 11/20\n",
      "63/63 [==============================] - 1s 9ms/step - loss: 0.6371 - accuracy: 0.8190 - val_loss: 1.3938 - val_accuracy: 0.7150\n",
      "Epoch 12/20\n",
      "63/63 [==============================] - 1s 9ms/step - loss: 0.5950 - accuracy: 0.8315 - val_loss: 1.3816 - val_accuracy: 0.7210\n",
      "Epoch 13/20\n",
      "63/63 [==============================] - 1s 9ms/step - loss: 0.5581 - accuracy: 0.8369 - val_loss: 1.4261 - val_accuracy: 0.7140\n",
      "Epoch 14/20\n",
      "63/63 [==============================] - 1s 9ms/step - loss: 0.5272 - accuracy: 0.8441 - val_loss: 1.3985 - val_accuracy: 0.7240\n",
      "Epoch 15/20\n",
      "63/63 [==============================] - 1s 9ms/step - loss: 0.5009 - accuracy: 0.8542 - val_loss: 1.4765 - val_accuracy: 0.7270\n",
      "Epoch 16/20\n",
      "63/63 [==============================] - 1s 9ms/step - loss: 0.4780 - accuracy: 0.8593 - val_loss: 1.5846 - val_accuracy: 0.7160\n",
      "Epoch 17/20\n",
      "63/63 [==============================] - 1s 9ms/step - loss: 0.4552 - accuracy: 0.8653 - val_loss: 1.5366 - val_accuracy: 0.7220\n",
      "Epoch 18/20\n",
      "63/63 [==============================] - 1s 9ms/step - loss: 0.4359 - accuracy: 0.8723 - val_loss: 1.6144 - val_accuracy: 0.7140\n",
      "Epoch 19/20\n",
      "63/63 [==============================] - 1s 9ms/step - loss: 0.4198 - accuracy: 0.8770 - val_loss: 1.6618 - val_accuracy: 0.7140\n",
      "Epoch 20/20\n",
      "63/63 [==============================] - 1s 9ms/step - loss: 0.4048 - accuracy: 0.8796 - val_loss: 1.7294 - val_accuracy: 0.7140\n"
     ]
    },
    {
     "data": {
      "text/plain": [
       "<keras.callbacks.History at 0x1f611850fd0>"
      ]
     },
     "execution_count": 222,
     "metadata": {},
     "output_type": "execute_result"
    }
   ],
   "source": [
    "model = models.Sequential()\n",
    "model.add(layers.Dense(64, activation='relu', input_shape=(10000,)))\n",
    "model.add(layers.Dense(4, activation='relu'))\n",
    "model.add(layers.Dense(46, activation='softmax'))\n",
    "model.compile(optimizer='rmsprop',\n",
    "                loss='categorical_crossentropy',\n",
    "                metrics=['accuracy'])\n",
    "model.fit(partial_x_train,\n",
    "            partial_y_train,\n",
    "            epochs=20,\n",
    "            batch_size=128,\n",
    "            validation_data=(x_val, y_val))"
   ]
  },
  {
   "cell_type": "markdown",
   "id": "7d3ca600",
   "metadata": {},
   "source": [
    "I can see that the accuracy was lower now because of the bottleneck by around 7%. This makes sense since the data would be harder to access"
   ]
  },
  {
   "cell_type": "markdown",
   "id": "3c4aa430",
   "metadata": {},
   "source": [
    "## A Regression example"
   ]
  },
  {
   "cell_type": "code",
   "execution_count": 223,
   "id": "6c0d95b2",
   "metadata": {},
   "outputs": [],
   "source": [
    "from keras.datasets import boston_housing\n",
    "(train_data, train_targets), (test_data, test_targets) = boston_housing.load_data()"
   ]
  },
  {
   "cell_type": "markdown",
   "id": "3d775c0e",
   "metadata": {},
   "source": [
    "Normalizing the data"
   ]
  },
  {
   "cell_type": "code",
   "execution_count": 224,
   "id": "dde54c6b",
   "metadata": {},
   "outputs": [],
   "source": [
    "mean = train_data.mean(axis=0)\n",
    "train_data -= mean\n",
    "std = train_data.std(axis=0)\n",
    "train_data /= std\n",
    "test_data -= mean\n",
    "test_data /= std"
   ]
  },
  {
   "cell_type": "markdown",
   "id": "950001d8",
   "metadata": {},
   "source": [
    "Defining the model. I'm using a function since we are likely going to have to build it multiple times. No activation is used since it would constrain the range of outputs"
   ]
  },
  {
   "cell_type": "code",
   "execution_count": 225,
   "id": "83d5d4da",
   "metadata": {},
   "outputs": [],
   "source": [
    "def build_model():\n",
    "    model = models.Sequential()\n",
    "    model.add(layers.Dense(64, activation='relu',\n",
    "    input_shape=(train_data.shape[1],)))\n",
    "    model.add(layers.Dense(64, activation='relu'))\n",
    "    model.add(layers.Dense(1))\n",
    "    model.compile(optimizer='rmsprop', loss='mse', metrics=['mae'])\n",
    "    return model"
   ]
  },
  {
   "cell_type": "markdown",
   "id": "b4d40c9f",
   "metadata": {},
   "source": [
    "Using K-Fold validation"
   ]
  },
  {
   "cell_type": "code",
   "execution_count": 226,
   "id": "c0f18918",
   "metadata": {},
   "outputs": [],
   "source": [
    "k=4\n",
    "num_val_samples = len(train_data) // k\n",
    "num_epochs = 100\n",
    "all_scores = []"
   ]
  },
  {
   "cell_type": "code",
   "execution_count": 228,
   "id": "1c028b20",
   "metadata": {},
   "outputs": [
    {
     "name": "stdout",
     "output_type": "stream",
     "text": [
      "processing fold # 0\n",
      "processing fold # 1\n",
      "processing fold # 2\n",
      "processing fold # 3\n"
     ]
    }
   ],
   "source": [
    "num_epochs = 500\n",
    "all_mae_histories = []\n",
    "for i in range(k):\n",
    "    print('processing fold #', i)\n",
    "    val_data = train_data[i * num_val_samples: (i + 1) * num_val_samples]\n",
    "    val_targets = train_targets[i * num_val_samples: (i + 1) * num_val_samples]\n",
    "    partial_train_data = np.concatenate(\n",
    "        [train_data[:i * num_val_samples],\n",
    "        train_data[(i + 1) * num_val_samples:]],\n",
    "        axis=0)\n",
    "    partial_train_targets = np.concatenate(\n",
    "        [train_targets[:i * num_val_samples],\n",
    "        train_targets[(i + 1) * num_val_samples:]],\n",
    "        axis=0)\n",
    "    model = build_model()\n",
    "    history = model.fit(partial_train_data, partial_train_targets,\n",
    "                validation_data=(val_data, val_targets),\n",
    "                epochs=num_epochs, batch_size=1, verbose=0)\n",
    "    mae_history = history.history['val_mae']\n",
    "    all_mae_histories.append(mae_history)\n",
    "average_mae_history = [np.mean([x[i] for x in all_mae_histories]) for i in range(num_epochs)]"
   ]
  },
  {
   "cell_type": "markdown",
   "id": "419a7f54",
   "metadata": {},
   "source": [
    "Plotting validation scores"
   ]
  },
  {
   "cell_type": "code",
   "execution_count": 229,
   "id": "b7b6e51b",
   "metadata": {},
   "outputs": [
    {
     "data": {
      "image/png": "[encoded data removed]",
      "text/plain": [
       "<Figure size 432x288 with 1 Axes>"
      ]
     },
     "metadata": {
      "needs_background": "light"
     },
     "output_type": "display_data"
    }
   ],
   "source": [
    "plt.plot(range(1, len(average_mae_history) + 1), average_mae_history)\n",
    "plt.xlabel('Epochs')\n",
    "plt.ylabel('Validation MAE')\n",
    "plt.show()"
   ]
  },
  {
   "cell_type": "code",
   "execution_count": 230,
   "id": "416d9901",
   "metadata": {},
   "outputs": [
    {
     "data": {
      "image/png": "[encoded data removed]",
      "text/plain": [
       "<Figure size 432x288 with 1 Axes>"
      ]
     },
     "metadata": {
      "needs_background": "light"
     },
     "output_type": "display_data"
    }
   ],
   "source": [
    "def smooth_curve(points, factor=0.9):\n",
    "    smoothed_points = []\n",
    "    for point in points:\n",
    "        if smoothed_points:\n",
    "            previous = smoothed_points[-1]\n",
    "            smoothed_points.append(previous * factor + point * (1 - factor))\n",
    "        else:\n",
    "            smoothed_points.append(point)\n",
    "    return smoothed_points\n",
    "smooth_mae_history = smooth_curve(average_mae_history[10:])\n",
    "plt.plot(range(1, len(smooth_mae_history) + 1), smooth_mae_history)\n",
    "plt.xlabel('Epochs')\n",
    "plt.ylabel('Validation MAE')\n",
    "plt.show()"
   ]
  },
  {
   "cell_type": "markdown",
   "id": "094a4ddd",
   "metadata": {},
   "source": [
    "After around 80 epochs, the model starts to overfit and provide more harm then good. Therefore, we should not go past around 80 epochs"
   ]
  },
  {
   "cell_type": "code",
   "execution_count": 232,
   "id": "6f95be87",
   "metadata": {},
   "outputs": [
    {
     "name": "stdout",
     "output_type": "stream",
     "text": [
      "4/4 [==============================] - 0s 999us/step - loss: 16.8752 - mae: 2.6853\n"
     ]
    },
    {
     "data": {
      "text/plain": [
       "2.6852755546569824"
      ]
     },
     "execution_count": 232,
     "metadata": {},
     "output_type": "execute_result"
    }
   ],
   "source": [
    "model = build_model()\n",
    "model.fit(train_data, train_targets,\n",
    "    epochs=80, batch_size=16, verbose=0)\n",
    "test_mse_score, test_mae_score = model.evaluate(test_data, test_targets)\n",
    "test_mae_score"
   ]
  },
  {
   "cell_type": "code",
   "execution_count": null,
   "id": "93cc83d5",
   "metadata": {},
   "outputs": [],
   "source": []
  }
 ],
 "metadata": {
  "kernelspec": {
   "display_name": "Python 3 (ipykernel)",
   "language": "python",
   "name": "python3"
  },
  "language_info": {
   "codemirror_mode": {
    "name": "ipython",
    "version": 3
   },
   "file_extension": ".py",
   "mimetype": "text/x-python",
   "name": "python",
   "nbconvert_exporter": "python",
   "pygments_lexer": "ipython3",
   "version": "3.9.4"
  }
 },
 "nbformat": 4,
 "nbformat_minor": 5
}
