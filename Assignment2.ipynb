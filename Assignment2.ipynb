{
 "cells": [
  {
   "cell_type": "markdown",
   "id": "a5f3318f",
   "metadata": {},
   "source": [
    "# Assignment 2\n",
    "## A binary classification example"
   ]
  },
  {
   "cell_type": "markdown",
   "id": "4f85d625",
   "metadata": {},
   "source": [
    "loading dataset"
   ]
  },
  {
   "cell_type": "code",
   "execution_count": 93,
   "id": "837051eb",
   "metadata": {},
   "outputs": [],
   "source": [
    "from tensorflow import keras\n",
    "from keras.datasets import imdb\n",
    "from keras import models\n",
    "from keras import layers\n",
    "from keras import losses\n",
    "from tensorflow.keras import optimizers\n",
    "from keras import metrics\n",
    "import matplotlib.pyplot as plt"
   ]
  },
  {
   "cell_type": "code",
   "execution_count": 94,
   "id": "015543bf",
   "metadata": {},
   "outputs": [],
   "source": [
    "(train_data, train_labels), (test_data, test_labels)=imdb.load_data(num_words=10000)"
   ]
  },
  {
   "cell_type": "markdown",
   "id": "4d956212",
   "metadata": {},
   "source": [
    "turning list into tensors"
   ]
  },
  {
   "cell_type": "code",
   "execution_count": 95,
   "id": "85195d95",
   "metadata": {},
   "outputs": [],
   "source": [
    "import numpy as np"
   ]
  },
  {
   "cell_type": "code",
   "execution_count": 96,
   "id": "2324e7ce",
   "metadata": {},
   "outputs": [],
   "source": [
    "def vectorize_sequences(sequences, dimension=10000):\n",
    "    results = np.zeros((len(sequences), dimension))\n",
    "    for i, sequence in enumerate(sequences):\n",
    "        results[i, sequence] = 1\n",
    "    return results\n",
    "x_train=vectorize_sequences(train_data)\n",
    "x_test=vectorize_sequences(test_data)\n",
    "y_train = np.asarray(train_labels).astype('float32')\n",
    "y_test = np.asarray(test_labels).astype('float32')"
   ]
  },
  {
   "cell_type": "markdown",
   "id": "8e331ef2",
   "metadata": {},
   "source": [
    "Data is now ready to be fed into a nueral network"
   ]
  },
  {
   "cell_type": "code",
   "execution_count": 97,
   "id": "53c5a680",
   "metadata": {},
   "outputs": [],
   "source": [
    "model=models.Sequential()\n",
    "model.add(layers.Dense(16, activation = 'relu', input_shape=(10000,)))\n",
    "model.add(layers.Dense(16, activation = 'relu'))\n",
    "model.add(layers.Dense(1, activation= 'sigmoid'))"
   ]
  },
  {
   "cell_type": "markdown",
   "id": "7858eb76",
   "metadata": {},
   "source": [
    "Compiling the model"
   ]
  },
  {
   "cell_type": "code",
   "execution_count": 98,
   "id": "c9951cd5",
   "metadata": {},
   "outputs": [],
   "source": [
    "model.compile(optimizer='rmsprop', \n",
    "             loss='binarycrossentropy',\n",
    "             metrics=['accuracy'])\n",
    "model.compile(optimizer=optimizers.RMSprop(learning_rate=0.001), \n",
    "             loss =losses.binary_crossentropy, \n",
    "             metrics=[metrics.binary_accuracy])"
   ]
  },
  {
   "cell_type": "code",
   "execution_count": 99,
   "id": "f627aa0b",
   "metadata": {},
   "outputs": [],
   "source": [
    "x_val=x_train[:10000]\n",
    "partial_x_train = x_train[10000:]\n",
    "y_val=y_train[:10000]\n",
    "partial_y_train = y_train[10000: ]\n"
   ]
  },
  {
   "cell_type": "code",
   "execution_count": 100,
   "id": "60454f1a",
   "metadata": {},
   "outputs": [],
   "source": [
    "model.compile(optimizer='rmsprop',\n",
    "             loss = 'binary_crossentropy',\n",
    "             metrics=['acc'])"
   ]
  },
  {
   "cell_type": "code",
   "execution_count": 101,
   "id": "c923fb6c",
   "metadata": {},
   "outputs": [
    {
     "name": "stdout",
     "output_type": "stream",
     "text": [
      "Epoch 1/20\n",
      "30/30 [==============================] - 1s 26ms/step - loss: 0.5491 - acc: 0.7989 - val_loss: 0.4216 - val_acc: 0.8643\n",
      "Epoch 2/20\n",
      "30/30 [==============================] - 0s 17ms/step - loss: 0.3336 - acc: 0.8966 - val_loss: 0.3266 - val_acc: 0.8783\n",
      "Epoch 3/20\n",
      "30/30 [==============================] - 0s 16ms/step - loss: 0.2413 - acc: 0.9231 - val_loss: 0.3001 - val_acc: 0.8807\n",
      "Epoch 4/20\n",
      "30/30 [==============================] - 0s 15ms/step - loss: 0.1912 - acc: 0.9383 - val_loss: 0.2748 - val_acc: 0.8903\n",
      "Epoch 5/20\n",
      "30/30 [==============================] - 0s 15ms/step - loss: 0.1547 - acc: 0.9515 - val_loss: 0.2774 - val_acc: 0.8901\n",
      "Epoch 6/20\n",
      "30/30 [==============================] - 0s 15ms/step - loss: 0.1282 - acc: 0.9607 - val_loss: 0.2891 - val_acc: 0.8875\n",
      "Epoch 7/20\n",
      "30/30 [==============================] - 0s 15ms/step - loss: 0.1062 - acc: 0.9690 - val_loss: 0.2992 - val_acc: 0.8842\n",
      "Epoch 8/20\n",
      "30/30 [==============================] - 0s 15ms/step - loss: 0.0866 - acc: 0.9750 - val_loss: 0.3185 - val_acc: 0.8844\n",
      "Epoch 9/20\n",
      "30/30 [==============================] - 0s 17ms/step - loss: 0.0754 - acc: 0.9787 - val_loss: 0.3359 - val_acc: 0.8830\n",
      "Epoch 10/20\n",
      "30/30 [==============================] - 0s 15ms/step - loss: 0.0601 - acc: 0.9850 - val_loss: 0.3682 - val_acc: 0.8802\n",
      "Epoch 11/20\n",
      "30/30 [==============================] - 0s 16ms/step - loss: 0.0483 - acc: 0.9883 - val_loss: 0.3840 - val_acc: 0.8779\n",
      "Epoch 12/20\n",
      "30/30 [==============================] - 0s 15ms/step - loss: 0.0402 - acc: 0.9906 - val_loss: 0.4148 - val_acc: 0.8727\n",
      "Epoch 13/20\n",
      "30/30 [==============================] - 0s 16ms/step - loss: 0.0332 - acc: 0.9921 - val_loss: 0.4431 - val_acc: 0.8717\n",
      "Epoch 14/20\n",
      "30/30 [==============================] - 0s 15ms/step - loss: 0.0246 - acc: 0.9956 - val_loss: 0.4727 - val_acc: 0.8711\n",
      "Epoch 15/20\n",
      "30/30 [==============================] - 0s 16ms/step - loss: 0.0190 - acc: 0.9979 - val_loss: 0.4982 - val_acc: 0.8727\n",
      "Epoch 16/20\n",
      "30/30 [==============================] - 0s 15ms/step - loss: 0.0150 - acc: 0.9979 - val_loss: 0.5406 - val_acc: 0.8689\n",
      "Epoch 17/20\n",
      "30/30 [==============================] - 0s 16ms/step - loss: 0.0122 - acc: 0.9984 - val_loss: 0.5727 - val_acc: 0.8694\n",
      "Epoch 18/20\n",
      "30/30 [==============================] - 0s 16ms/step - loss: 0.0094 - acc: 0.9992 - val_loss: 0.6049 - val_acc: 0.8694\n",
      "Epoch 19/20\n",
      "30/30 [==============================] - 0s 15ms/step - loss: 0.0060 - acc: 0.9997 - val_loss: 0.6475 - val_acc: 0.8673\n",
      "Epoch 20/20\n",
      "30/30 [==============================] - 0s 14ms/step - loss: 0.0044 - acc: 0.9999 - val_loss: 0.7807 - val_acc: 0.8539\n",
      "782/782 [==============================] - 1s 1ms/step - loss: 0.8122 - acc: 0.8440\n"
     ]
    },
    {
     "data": {
      "text/plain": [
       "[0.8121834993362427, 0.8440399765968323]"
      ]
     },
     "execution_count": 101,
     "metadata": {},
     "output_type": "execute_result"
    }
   ],
   "source": [
    "history = model.fit(partial_x_train, \n",
    "                   partial_y_train, \n",
    "                   epochs=20, \n",
    "                   batch_size=512,\n",
    "                   validation_data=(x_val, y_val))\n",
    "results=model.evaluate(x_test, y_test)\n",
    "results"
   ]
  },
  {
   "cell_type": "markdown",
   "id": "fb00fa6f",
   "metadata": {},
   "source": [
    "Plotting Training and validation loss"
   ]
  },
  {
   "cell_type": "code",
   "execution_count": 102,
   "id": "7edf9ff7",
   "metadata": {
    "scrolled": true
   },
   "outputs": [
    {
     "data": {
      "image/png": "[encoded data removed]",
      "text/plain": [
       "<Figure size 432x288 with 1 Axes>"
      ]
     },
     "metadata": {
      "needs_background": "light"
     },
     "output_type": "display_data"
    }
   ],
   "source": [
    "history_dict = history.history\n",
    "loss_values = history_dict['loss']\n",
    "val_loss_values = history_dict['val_loss']\n",
    "epochs= range(1, 21)\n",
    "plt.plot(epochs, loss_values, 'bo', label='Training loss')\n",
    "plt.plot(epochs, val_loss_values, 'b', label='Validation loss')\n",
    "plt.title('Training and validation loss')\n",
    "plt.xlabel('Epochs')\n",
    "plt.ylabel('Loss')\n",
    "plt.legend()\n",
    "plt.show()"
   ]
  },
  {
   "cell_type": "markdown",
   "id": "2aed024d",
   "metadata": {},
   "source": [
    "Plot Training and Validation accuracy"
   ]
  },
  {
   "cell_type": "code",
   "execution_count": 103,
   "id": "c5766ea7",
   "metadata": {
    "scrolled": true
   },
   "outputs": [
    {
     "data": {
      "image/png": "[encoded data removed]",
      "text/plain": [
       "<Figure size 432x288 with 1 Axes>"
      ]
     },
     "metadata": {
      "needs_background": "light"
     },
     "output_type": "display_data"
    }
   ],
   "source": [
    "plt.clf()\n",
    "acc_values=history_dict['acc']\n",
    "val_acc_values = history_dict['val_acc']\n",
    "\n",
    "plt.plot(epochs, acc_values, 'bo', label='Training acc')\n",
    "plt.plot(epochs, val_acc_values, 'b', label='Validation acc')\n",
    "plt.title('Training and validation accuracy')\n",
    "plt.xlabel('Epochs')\n",
    "plt.ylabel('Loss')\n",
    "plt.legend()\n",
    "plt.show()"
   ]
  },
  {
   "cell_type": "markdown",
   "id": "4bf4a248",
   "metadata": {},
   "source": [
    "Retraining the model from scratch with 4 EPochs"
   ]
  },
  {
   "cell_type": "code",
   "execution_count": 104,
   "id": "3e1233e1",
   "metadata": {},
   "outputs": [
    {
     "name": "stdout",
     "output_type": "stream",
     "text": [
      "Epoch 1/4\n",
      "49/49 [==============================] - 1s 10ms/step - loss: 0.4505 - accuracy: 0.8182\n",
      "Epoch 2/4\n",
      "49/49 [==============================] - 1s 10ms/step - loss: 0.2581 - accuracy: 0.9096\n",
      "Epoch 3/4\n",
      "49/49 [==============================] - 0s 10ms/step - loss: 0.2026 - accuracy: 0.9268\n",
      "Epoch 4/4\n",
      "49/49 [==============================] - 0s 9ms/step - loss: 0.1684 - accuracy: 0.9401\n",
      "782/782 [==============================] - 1s 843us/step - loss: 0.2922 - accuracy: 0.8838\n"
     ]
    },
    {
     "data": {
      "text/plain": [
       "[0.29215842485427856, 0.8838000297546387]"
      ]
     },
     "execution_count": 104,
     "metadata": {},
     "output_type": "execute_result"
    }
   ],
   "source": [
    "model=models.Sequential()\n",
    "model.add(layers.Dense(16, activation = 'relu', input_shape=(10000,)))\n",
    "model.add(layers.Dense(16, activation = 'relu'))\n",
    "model.add(layers.Dense(1, activation= 'sigmoid'))\n",
    "model.compile(optimizer='rmsprop', \n",
    "             loss='binary_crossentropy',\n",
    "             metrics=['accuracy'])\n",
    "model.fit(x_train, y_train, epochs=4, batch_size=512)\n",
    "results=model.evaluate(x_test, y_test)\n",
    "results"
   ]
  },
  {
   "cell_type": "markdown",
   "id": "ecfef097",
   "metadata": {},
   "source": [
    "Since this approach is more naive, I get a lower accuracy than I could have gotten"
   ]
  },
  {
   "cell_type": "markdown",
   "id": "e96e717f",
   "metadata": {},
   "source": [
    "### Further expiriments\n",
    "1. Using 1 or 3 hidden layers instad of 2"
   ]
  },
  {
   "cell_type": "code",
   "execution_count": 105,
   "id": "115b370d",
   "metadata": {},
   "outputs": [
    {
     "name": "stdout",
     "output_type": "stream",
     "text": [
      "Epoch 1/20\n",
      "30/30 [==============================] - 1s 26ms/step - loss: 0.5023 - accuracy: 0.8022 - val_loss: 0.3979 - val_accuracy: 0.8712\n",
      "Epoch 2/20\n",
      "30/30 [==============================] - 1s 18ms/step - loss: 0.3265 - accuracy: 0.9023 - val_loss: 0.3274 - val_accuracy: 0.8835\n",
      "Epoch 3/20\n",
      "30/30 [==============================] - 1s 18ms/step - loss: 0.2543 - accuracy: 0.9217 - val_loss: 0.3080 - val_accuracy: 0.8804\n",
      "Epoch 4/20\n",
      "30/30 [==============================] - 1s 17ms/step - loss: 0.2098 - accuracy: 0.9355 - val_loss: 0.2866 - val_accuracy: 0.8862\n",
      "Epoch 5/20\n",
      "30/30 [==============================] - 0s 16ms/step - loss: 0.1774 - accuracy: 0.9463 - val_loss: 0.2779 - val_accuracy: 0.8897\n",
      "Epoch 6/20\n",
      "30/30 [==============================] - 0s 15ms/step - loss: 0.1531 - accuracy: 0.9519 - val_loss: 0.2884 - val_accuracy: 0.8831\n",
      "Epoch 7/20\n",
      "30/30 [==============================] - 0s 16ms/step - loss: 0.1345 - accuracy: 0.9601 - val_loss: 0.2784 - val_accuracy: 0.8887\n",
      "Epoch 8/20\n",
      "30/30 [==============================] - 0s 15ms/step - loss: 0.1174 - accuracy: 0.9671 - val_loss: 0.2872 - val_accuracy: 0.8867\n",
      "Epoch 9/20\n",
      "30/30 [==============================] - 0s 16ms/step - loss: 0.1040 - accuracy: 0.9715 - val_loss: 0.3225 - val_accuracy: 0.8776\n",
      "Epoch 10/20\n",
      "30/30 [==============================] - 0s 15ms/step - loss: 0.0924 - accuracy: 0.9760 - val_loss: 0.3145 - val_accuracy: 0.8789\n",
      "Epoch 11/20\n",
      "30/30 [==============================] - 0s 15ms/step - loss: 0.0815 - accuracy: 0.9797 - val_loss: 0.3173 - val_accuracy: 0.8853\n",
      "Epoch 12/20\n",
      "30/30 [==============================] - 0s 15ms/step - loss: 0.0728 - accuracy: 0.9817 - val_loss: 0.3372 - val_accuracy: 0.8766\n",
      "Epoch 13/20\n",
      "30/30 [==============================] - 0s 15ms/step - loss: 0.0641 - accuracy: 0.9858 - val_loss: 0.3593 - val_accuracy: 0.8767\n",
      "Epoch 14/20\n",
      "30/30 [==============================] - 0s 15ms/step - loss: 0.0568 - accuracy: 0.9878 - val_loss: 0.3581 - val_accuracy: 0.8781\n",
      "Epoch 15/20\n",
      "30/30 [==============================] - 0s 15ms/step - loss: 0.0499 - accuracy: 0.9903 - val_loss: 0.3923 - val_accuracy: 0.8757\n",
      "Epoch 16/20\n",
      "30/30 [==============================] - 0s 16ms/step - loss: 0.0448 - accuracy: 0.9919 - val_loss: 0.3921 - val_accuracy: 0.8744\n",
      "Epoch 17/20\n",
      "30/30 [==============================] - 0s 15ms/step - loss: 0.0392 - accuracy: 0.9932 - val_loss: 0.4100 - val_accuracy: 0.8763\n",
      "Epoch 18/20\n",
      "30/30 [==============================] - 0s 16ms/step - loss: 0.0343 - accuracy: 0.9941 - val_loss: 0.4276 - val_accuracy: 0.8704\n",
      "Epoch 19/20\n",
      "30/30 [==============================] - 0s 16ms/step - loss: 0.0301 - accuracy: 0.9957 - val_loss: 0.4436 - val_accuracy: 0.8736\n",
      "Epoch 20/20\n",
      "30/30 [==============================] - 0s 14ms/step - loss: 0.0265 - accuracy: 0.9961 - val_loss: 0.4672 - val_accuracy: 0.8691\n",
      "782/782 [==============================] - 1s 834us/step - loss: 0.5111 - accuracy: 0.8556\n"
     ]
    },
    {
     "data": {
      "text/plain": [
       "[0.5110547542572021, 0.8555600047111511]"
      ]
     },
     "execution_count": 105,
     "metadata": {},
     "output_type": "execute_result"
    }
   ],
   "source": [
    "model=models.Sequential()\n",
    "model.add(layers.Dense(16, activation = 'relu', input_shape=(10000,)))\n",
    "model.add(layers.Dense(1, activation= 'sigmoid'))\n",
    "model.compile(optimizer='rmsprop', \n",
    "             loss='binary_crossentropy',\n",
    "             metrics=['accuracy'])\n",
    "history = model.fit(partial_x_train, \n",
    "                   partial_y_train, \n",
    "                   epochs=20, \n",
    "                   batch_size=512,\n",
    "                   validation_data=(x_val, y_val))\n",
    "results=model.evaluate(x_test, y_test)\n",
    "results"
   ]
  },
  {
   "cell_type": "code",
   "execution_count": 106,
   "id": "08e5b747",
   "metadata": {},
   "outputs": [
    {
     "name": "stdout",
     "output_type": "stream",
     "text": [
      "Epoch 1/20\n",
      "30/30 [==============================] - 1s 28ms/step - loss: 0.5628 - accuracy: 0.7652 - val_loss: 0.4247 - val_accuracy: 0.8724\n",
      "Epoch 2/20\n",
      "30/30 [==============================] - 1s 18ms/step - loss: 0.3278 - accuracy: 0.9027 - val_loss: 0.3041 - val_accuracy: 0.8894\n",
      "Epoch 3/20\n",
      "30/30 [==============================] - 1s 17ms/step - loss: 0.2293 - accuracy: 0.9257 - val_loss: 0.2985 - val_accuracy: 0.8810\n",
      "Epoch 4/20\n",
      "30/30 [==============================] - 1s 17ms/step - loss: 0.1767 - accuracy: 0.9413 - val_loss: 0.2720 - val_accuracy: 0.8907\n",
      "Epoch 5/20\n",
      "30/30 [==============================] - 0s 16ms/step - loss: 0.1419 - accuracy: 0.9513 - val_loss: 0.2818 - val_accuracy: 0.8869\n",
      "Epoch 6/20\n",
      "30/30 [==============================] - 0s 15ms/step - loss: 0.1108 - accuracy: 0.9655 - val_loss: 0.3023 - val_accuracy: 0.8849\n",
      "Epoch 7/20\n",
      "30/30 [==============================] - 0s 15ms/step - loss: 0.0936 - accuracy: 0.9707 - val_loss: 0.3411 - val_accuracy: 0.8797\n",
      "Epoch 8/20\n",
      "30/30 [==============================] - 0s 15ms/step - loss: 0.0731 - accuracy: 0.9779 - val_loss: 0.3603 - val_accuracy: 0.8771\n",
      "Epoch 9/20\n",
      "30/30 [==============================] - 0s 15ms/step - loss: 0.0608 - accuracy: 0.9823 - val_loss: 0.3801 - val_accuracy: 0.8786\n",
      "Epoch 10/20\n",
      "30/30 [==============================] - 0s 16ms/step - loss: 0.0473 - accuracy: 0.9865 - val_loss: 0.4164 - val_accuracy: 0.8762\n",
      "Epoch 11/20\n",
      "30/30 [==============================] - 0s 15ms/step - loss: 0.0401 - accuracy: 0.9885 - val_loss: 0.4503 - val_accuracy: 0.8762\n",
      "Epoch 12/20\n",
      "30/30 [==============================] - 0s 16ms/step - loss: 0.0284 - accuracy: 0.9929 - val_loss: 0.5077 - val_accuracy: 0.8671\n",
      "Epoch 13/20\n",
      "30/30 [==============================] - 0s 16ms/step - loss: 0.0246 - accuracy: 0.9947 - val_loss: 0.5247 - val_accuracy: 0.8715\n",
      "Epoch 14/20\n",
      "30/30 [==============================] - 0s 15ms/step - loss: 0.0203 - accuracy: 0.9955 - val_loss: 0.5609 - val_accuracy: 0.8703\n",
      "Epoch 15/20\n",
      "30/30 [==============================] - 0s 16ms/step - loss: 0.0096 - accuracy: 0.9994 - val_loss: 0.6088 - val_accuracy: 0.8706\n",
      "Epoch 16/20\n",
      "30/30 [==============================] - 0s 15ms/step - loss: 0.0122 - accuracy: 0.9971 - val_loss: 0.6452 - val_accuracy: 0.8675\n",
      "Epoch 17/20\n",
      "30/30 [==============================] - 0s 15ms/step - loss: 0.0148 - accuracy: 0.9954 - val_loss: 0.6884 - val_accuracy: 0.8686\n",
      "Epoch 18/20\n",
      "30/30 [==============================] - 0s 16ms/step - loss: 0.0034 - accuracy: 0.9999 - val_loss: 0.7204 - val_accuracy: 0.8653\n",
      "Epoch 19/20\n",
      "30/30 [==============================] - 0s 17ms/step - loss: 0.0097 - accuracy: 0.9970 - val_loss: 0.7647 - val_accuracy: 0.8684\n",
      "Epoch 20/20\n",
      "30/30 [==============================] - 0s 13ms/step - loss: 0.0019 - accuracy: 0.9999 - val_loss: 0.7949 - val_accuracy: 0.8640\n",
      "782/782 [==============================] - 1s 895us/step - loss: 0.8855 - accuracy: 0.8478\n"
     ]
    },
    {
     "data": {
      "text/plain": [
       "[0.8855462670326233, 0.847760021686554]"
      ]
     },
     "execution_count": 106,
     "metadata": {},
     "output_type": "execute_result"
    }
   ],
   "source": [
    "model=models.Sequential()\n",
    "model.add(layers.Dense(16, activation = 'relu', input_shape=(10000,)))\n",
    "model.add(layers.Dense(16, activation = 'relu'))\n",
    "model.add(layers.Dense(16, activation = 'relu'))\n",
    "model.add(layers.Dense(1, activation= 'sigmoid'))\n",
    "model.compile(optimizer='rmsprop', \n",
    "             loss='binary_crossentropy',\n",
    "             metrics=['accuracy'])\n",
    "history = model.fit(partial_x_train, \n",
    "                   partial_y_train, \n",
    "                   epochs=20, \n",
    "                   batch_size=512,\n",
    "                   validation_data=(x_val, y_val))\n",
    "results=model.evaluate(x_test, y_test)\n",
    "results"
   ]
  },
  {
   "cell_type": "markdown",
   "id": "08bb3604",
   "metadata": {},
   "source": [
    "2. Using Layers with hidden or fewer units: eg 32, 64"
   ]
  },
  {
   "cell_type": "markdown",
   "id": "df57858f",
   "metadata": {},
   "source": [
    "3. Using mse instead of binary_crossentropy"
   ]
  },
  {
   "cell_type": "markdown",
   "id": "a181503c",
   "metadata": {},
   "source": [
    "4. Use tanh instead of relu in activation function"
   ]
  },
  {
   "cell_type": "code",
   "execution_count": null,
   "id": "00116926",
   "metadata": {},
   "outputs": [],
   "source": []
  }
 ],
 "metadata": {
  "kernelspec": {
   "display_name": "Python 3 (ipykernel)",
   "language": "python",
   "name": "python3"
  },
  "language_info": {
   "codemirror_mode": {
    "name": "ipython",
    "version": 3
   },
   "file_extension": ".py",
   "mimetype": "text/x-python",
   "name": "python",
   "nbconvert_exporter": "python",
   "pygments_lexer": "ipython3",
   "version": "3.9.4"
  }
 },
 "nbformat": 4,
 "nbformat_minor": 5
}
