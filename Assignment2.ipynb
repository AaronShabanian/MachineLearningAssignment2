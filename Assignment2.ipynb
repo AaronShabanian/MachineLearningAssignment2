{
 "cells": [
  {
   "cell_type": "markdown",
   "id": "d6c029a5",
   "metadata": {},
   "source": [
    "# Assignment 2\n",
    "## A binary classification example"
   ]
  },
  {
   "cell_type": "markdown",
   "id": "c4f9795f",
   "metadata": {},
   "source": [
    "loading dataset"
   ]
  },
  {
   "cell_type": "code",
   "execution_count": 1273,
   "id": "e28fbda1",
   "metadata": {},
   "outputs": [],
   "source": [
    "from tensorflow import keras\n",
    "from keras.datasets import imdb\n",
    "from keras import models\n",
    "from keras import layers\n",
    "from keras import losses\n",
    "from tensorflow.keras import optimizers\n",
    "from keras import metrics\n",
    "import matplotlib.pyplot as plt\n",
    "import pandas as pd\n",
    "from sklearn.model_selection import train_test_split\n",
    "from sklearn.preprocessing import StandardScaler\n",
    "import numpy as np\n",
    "from keras.utils.np_utils import to_categorical"
   ]
  },
  {
   "cell_type": "markdown",
   "id": "6168cd15",
   "metadata": {},
   "source": [
    "In this first binary classification example, I will be using a credit default data set to predict whether someone will default."
   ]
  },
  {
   "cell_type": "code",
   "execution_count": 1274,
   "id": "46831369",
   "metadata": {},
   "outputs": [
    {
     "data": {
      "text/plain": [
       "array([[5.0000e+04, 1.0000e+00, 2.0000e+00, ..., 4.0000e+03, 5.0000e+03,\n",
       "        2.0000e+03],\n",
       "       [1.6000e+05, 2.0000e+00, 1.0000e+00, ..., 8.6000e+02, 0.0000e+00,\n",
       "        0.0000e+00],\n",
       "       [2.8000e+05, 1.0000e+00, 2.0000e+00, ..., 2.9000e+03, 2.5000e+03,\n",
       "        2.6000e+03],\n",
       "       ...,\n",
       "       [2.9000e+05, 1.0000e+00, 1.0000e+00, ..., 8.8030e+03, 8.3000e+03,\n",
       "        8.5460e+03],\n",
       "       [5.0000e+04, 2.0000e+00, 1.0000e+00, ..., 1.8868e+04, 8.0600e+02,\n",
       "        9.6800e+02],\n",
       "       [3.0000e+04, 2.0000e+00, 1.0000e+00, ..., 1.0000e+03, 1.0000e+03,\n",
       "        1.0000e+03]])"
      ]
     },
     "execution_count": 1274,
     "metadata": {},
     "output_type": "execute_result"
    }
   ],
   "source": [
    "\n",
    "db=pd.read_csv(\"C:/Users/Aaron Shabanian/Documents/MachineLearning/MachineLearningAssignment2/UCI_Credit_Card.csv\")\n",
    "db.head()\n",
    "\n",
    "predictors=[\"LIMIT_BAL\", \"EDUCATION\", \"SEX\", \"MARRIAGE\", \"AGE\", \"PAY_0\", \"PAY_2\", \"PAY_3\", \"PAY_4\", \"PAY_5\", \"PAY_6\",\n",
    "           \"BILL_AMT1\", \"BILL_AMT2\", \"BILL_AMT3\",  \"BILL_AMT4\", \"BILL_AMT5\", \"BILL_AMT6\", \"PAY_AMT1\", \"PAY_AMT2\", \"PAY_AMT3\", \n",
    "           \"PAY_AMT4\", \"PAY_AMT5\", \"PAY_AMT6\"]\n",
    "z=StandardScaler()\n",
    "x_train, x_test, y_train, y_test =train_test_split(db[predictors], db[\"default.payment.next.month\"], test_size=.2)\n",
    "x_train= x_train.to_numpy()\n",
    "x_test = x_test.to_numpy()\n",
    "y_train = y_train.to_numpy()\n",
    "y_test = y_test.to_numpy()\n",
    "x_train"
   ]
  },
  {
   "cell_type": "code",
   "execution_count": 1275,
   "id": "ea48728e",
   "metadata": {},
   "outputs": [
    {
     "data": {
      "text/html": [
       "<div>\n",
       "<style scoped>\n",
       "    .dataframe tbody tr th:only-of-type {\n",
       "        vertical-align: middle;\n",
       "    }\n",
       "\n",
       "    .dataframe tbody tr th {\n",
       "        vertical-align: top;\n",
       "    }\n",
       "\n",
       "    .dataframe thead th {\n",
       "        text-align: right;\n",
       "    }\n",
       "</style>\n",
       "<table border=\"1\" class=\"dataframe\">\n",
       "  <thead>\n",
       "    <tr style=\"text-align: right;\">\n",
       "      <th></th>\n",
       "      <th>ID</th>\n",
       "      <th>LIMIT_BAL</th>\n",
       "      <th>SEX</th>\n",
       "      <th>EDUCATION</th>\n",
       "      <th>MARRIAGE</th>\n",
       "      <th>AGE</th>\n",
       "      <th>PAY_0</th>\n",
       "      <th>PAY_2</th>\n",
       "      <th>PAY_3</th>\n",
       "      <th>PAY_4</th>\n",
       "      <th>...</th>\n",
       "      <th>BILL_AMT4</th>\n",
       "      <th>BILL_AMT5</th>\n",
       "      <th>BILL_AMT6</th>\n",
       "      <th>PAY_AMT1</th>\n",
       "      <th>PAY_AMT2</th>\n",
       "      <th>PAY_AMT3</th>\n",
       "      <th>PAY_AMT4</th>\n",
       "      <th>PAY_AMT5</th>\n",
       "      <th>PAY_AMT6</th>\n",
       "      <th>default.payment.next.month</th>\n",
       "    </tr>\n",
       "  </thead>\n",
       "  <tbody>\n",
       "    <tr>\n",
       "      <th>0</th>\n",
       "      <td>1</td>\n",
       "      <td>20000.0</td>\n",
       "      <td>2</td>\n",
       "      <td>2</td>\n",
       "      <td>1</td>\n",
       "      <td>24</td>\n",
       "      <td>2</td>\n",
       "      <td>2</td>\n",
       "      <td>-1</td>\n",
       "      <td>-1</td>\n",
       "      <td>...</td>\n",
       "      <td>0.0</td>\n",
       "      <td>0.0</td>\n",
       "      <td>0.0</td>\n",
       "      <td>0.0</td>\n",
       "      <td>689.0</td>\n",
       "      <td>0.0</td>\n",
       "      <td>0.0</td>\n",
       "      <td>0.0</td>\n",
       "      <td>0.0</td>\n",
       "      <td>1</td>\n",
       "    </tr>\n",
       "    <tr>\n",
       "      <th>1</th>\n",
       "      <td>2</td>\n",
       "      <td>120000.0</td>\n",
       "      <td>2</td>\n",
       "      <td>2</td>\n",
       "      <td>2</td>\n",
       "      <td>26</td>\n",
       "      <td>-1</td>\n",
       "      <td>2</td>\n",
       "      <td>0</td>\n",
       "      <td>0</td>\n",
       "      <td>...</td>\n",
       "      <td>3272.0</td>\n",
       "      <td>3455.0</td>\n",
       "      <td>3261.0</td>\n",
       "      <td>0.0</td>\n",
       "      <td>1000.0</td>\n",
       "      <td>1000.0</td>\n",
       "      <td>1000.0</td>\n",
       "      <td>0.0</td>\n",
       "      <td>2000.0</td>\n",
       "      <td>1</td>\n",
       "    </tr>\n",
       "    <tr>\n",
       "      <th>2</th>\n",
       "      <td>3</td>\n",
       "      <td>90000.0</td>\n",
       "      <td>2</td>\n",
       "      <td>2</td>\n",
       "      <td>2</td>\n",
       "      <td>34</td>\n",
       "      <td>0</td>\n",
       "      <td>0</td>\n",
       "      <td>0</td>\n",
       "      <td>0</td>\n",
       "      <td>...</td>\n",
       "      <td>14331.0</td>\n",
       "      <td>14948.0</td>\n",
       "      <td>15549.0</td>\n",
       "      <td>1518.0</td>\n",
       "      <td>1500.0</td>\n",
       "      <td>1000.0</td>\n",
       "      <td>1000.0</td>\n",
       "      <td>1000.0</td>\n",
       "      <td>5000.0</td>\n",
       "      <td>0</td>\n",
       "    </tr>\n",
       "    <tr>\n",
       "      <th>3</th>\n",
       "      <td>4</td>\n",
       "      <td>50000.0</td>\n",
       "      <td>2</td>\n",
       "      <td>2</td>\n",
       "      <td>1</td>\n",
       "      <td>37</td>\n",
       "      <td>0</td>\n",
       "      <td>0</td>\n",
       "      <td>0</td>\n",
       "      <td>0</td>\n",
       "      <td>...</td>\n",
       "      <td>28314.0</td>\n",
       "      <td>28959.0</td>\n",
       "      <td>29547.0</td>\n",
       "      <td>2000.0</td>\n",
       "      <td>2019.0</td>\n",
       "      <td>1200.0</td>\n",
       "      <td>1100.0</td>\n",
       "      <td>1069.0</td>\n",
       "      <td>1000.0</td>\n",
       "      <td>0</td>\n",
       "    </tr>\n",
       "    <tr>\n",
       "      <th>4</th>\n",
       "      <td>5</td>\n",
       "      <td>50000.0</td>\n",
       "      <td>1</td>\n",
       "      <td>2</td>\n",
       "      <td>1</td>\n",
       "      <td>57</td>\n",
       "      <td>-1</td>\n",
       "      <td>0</td>\n",
       "      <td>-1</td>\n",
       "      <td>0</td>\n",
       "      <td>...</td>\n",
       "      <td>20940.0</td>\n",
       "      <td>19146.0</td>\n",
       "      <td>19131.0</td>\n",
       "      <td>2000.0</td>\n",
       "      <td>36681.0</td>\n",
       "      <td>10000.0</td>\n",
       "      <td>9000.0</td>\n",
       "      <td>689.0</td>\n",
       "      <td>679.0</td>\n",
       "      <td>0</td>\n",
       "    </tr>\n",
       "  </tbody>\n",
       "</table>\n",
       "<p>5 rows × 25 columns</p>\n",
       "</div>"
      ],
      "text/plain": [
       "   ID  LIMIT_BAL  SEX  EDUCATION  MARRIAGE  AGE  PAY_0  PAY_2  PAY_3  PAY_4  \\\n",
       "0   1    20000.0    2          2         1   24      2      2     -1     -1   \n",
       "1   2   120000.0    2          2         2   26     -1      2      0      0   \n",
       "2   3    90000.0    2          2         2   34      0      0      0      0   \n",
       "3   4    50000.0    2          2         1   37      0      0      0      0   \n",
       "4   5    50000.0    1          2         1   57     -1      0     -1      0   \n",
       "\n",
       "   ...  BILL_AMT4  BILL_AMT5  BILL_AMT6  PAY_AMT1  PAY_AMT2  PAY_AMT3  \\\n",
       "0  ...        0.0        0.0        0.0       0.0     689.0       0.0   \n",
       "1  ...     3272.0     3455.0     3261.0       0.0    1000.0    1000.0   \n",
       "2  ...    14331.0    14948.0    15549.0    1518.0    1500.0    1000.0   \n",
       "3  ...    28314.0    28959.0    29547.0    2000.0    2019.0    1200.0   \n",
       "4  ...    20940.0    19146.0    19131.0    2000.0   36681.0   10000.0   \n",
       "\n",
       "   PAY_AMT4  PAY_AMT5  PAY_AMT6  default.payment.next.month  \n",
       "0       0.0       0.0       0.0                           1  \n",
       "1    1000.0       0.0    2000.0                           1  \n",
       "2    1000.0    1000.0    5000.0                           0  \n",
       "3    1100.0    1069.0    1000.0                           0  \n",
       "4    9000.0     689.0     679.0                           0  \n",
       "\n",
       "[5 rows x 25 columns]"
      ]
     },
     "execution_count": 1275,
     "metadata": {},
     "output_type": "execute_result"
    }
   ],
   "source": [
    "#(train_data, train_labels), (test_data, test_labels)=imdb.load_data(num_words=10000)\n",
    "db.head()"
   ]
  },
  {
   "cell_type": "markdown",
   "id": "105d96d7",
   "metadata": {},
   "source": [
    "I got the data performed a Train test split and then converted everything as a numpy array so it could get fed into the nueral network"
   ]
  },
  {
   "cell_type": "markdown",
   "id": "4aec4836",
   "metadata": {},
   "source": [
    "Data is now ready to be fed into a nueral network"
   ]
  },
  {
   "cell_type": "code",
   "execution_count": 1276,
   "id": "91a3d6bd",
   "metadata": {},
   "outputs": [],
   "source": [
    "model=models.Sequential()\n",
    "model.add(layers.Dense(16, activation = 'relu', input_shape=(23,)))\n",
    "model.add(layers.Dense(16, activation = 'relu'))\n",
    "model.add(layers.Dense(1, activation= 'sigmoid'))"
   ]
  },
  {
   "cell_type": "markdown",
   "id": "3ac5dbe9",
   "metadata": {},
   "source": [
    "Compiling the model"
   ]
  },
  {
   "cell_type": "code",
   "execution_count": 1277,
   "id": "55e7b817",
   "metadata": {},
   "outputs": [],
   "source": [
    "model.compile(optimizer='rmsprop', \n",
    "             loss='binary_crossentropy',\n",
    "             metrics=['accuracy'])\n",
    "model.compile(optimizer=optimizers.RMSprop(learning_rate=0.001), \n",
    "             loss =losses.binary_crossentropy, \n",
    "             metrics=[metrics.binary_accuracy])"
   ]
  },
  {
   "cell_type": "code",
   "execution_count": 1278,
   "id": "cd074ece",
   "metadata": {},
   "outputs": [],
   "source": [
    "x_val=x_train[:15000]\n",
    "partial_x_train = x_train[15000:]\n",
    "y_val=y_train[:15000]\n",
    "partial_y_train = y_train[15000: ]\n"
   ]
  },
  {
   "cell_type": "code",
   "execution_count": 1279,
   "id": "55d72e2e",
   "metadata": {},
   "outputs": [],
   "source": [
    "model.compile(optimizer='rmsprop',\n",
    "             loss = 'binary_crossentropy',\n",
    "             metrics=['acc'])"
   ]
  },
  {
   "cell_type": "code",
   "execution_count": 1280,
   "id": "415074af",
   "metadata": {},
   "outputs": [
    {
     "name": "stdout",
     "output_type": "stream",
     "text": [
      "Epoch 1/20\n",
      "18/18 [==============================] - 0s 8ms/step - loss: 1582.1689 - acc: 0.6438 - val_loss: 747.3137 - val_acc: 0.7031\n",
      "Epoch 2/20\n",
      "18/18 [==============================] - 0s 3ms/step - loss: 671.1713 - acc: 0.6899 - val_loss: 560.6209 - val_acc: 0.7345\n",
      "Epoch 3/20\n",
      "18/18 [==============================] - 0s 3ms/step - loss: 535.3598 - acc: 0.6947 - val_loss: 526.8539 - val_acc: 0.5915\n",
      "Epoch 4/20\n",
      "18/18 [==============================] - 0s 3ms/step - loss: 484.2681 - acc: 0.6884 - val_loss: 507.4767 - val_acc: 0.7525\n",
      "Epoch 5/20\n",
      "18/18 [==============================] - 0s 3ms/step - loss: 427.4031 - acc: 0.6948 - val_loss: 600.3404 - val_acc: 0.7670\n",
      "Epoch 6/20\n",
      "18/18 [==============================] - 0s 2ms/step - loss: 402.9106 - acc: 0.7033 - val_loss: 457.7888 - val_acc: 0.5483\n",
      "Epoch 7/20\n",
      "18/18 [==============================] - 0s 2ms/step - loss: 370.6941 - acc: 0.6911 - val_loss: 539.9381 - val_acc: 0.7710\n",
      "Epoch 8/20\n",
      "18/18 [==============================] - 0s 3ms/step - loss: 352.8896 - acc: 0.6938 - val_loss: 413.2963 - val_acc: 0.7663\n",
      "Epoch 9/20\n",
      "18/18 [==============================] - 0s 3ms/step - loss: 321.1548 - acc: 0.7004 - val_loss: 523.3008 - val_acc: 0.7731\n",
      "Epoch 10/20\n",
      "18/18 [==============================] - 0s 2ms/step - loss: 328.3813 - acc: 0.6996 - val_loss: 223.6558 - val_acc: 0.7160\n",
      "Epoch 11/20\n",
      "18/18 [==============================] - 0s 3ms/step - loss: 282.1133 - acc: 0.6964 - val_loss: 427.0213 - val_acc: 0.7722\n",
      "Epoch 12/20\n",
      "18/18 [==============================] - 0s 2ms/step - loss: 322.3005 - acc: 0.7008 - val_loss: 318.4209 - val_acc: 0.5437\n",
      "Epoch 13/20\n",
      "18/18 [==============================] - 0s 3ms/step - loss: 268.2271 - acc: 0.6869 - val_loss: 320.5236 - val_acc: 0.6052\n",
      "Epoch 14/20\n",
      "18/18 [==============================] - 0s 2ms/step - loss: 323.7031 - acc: 0.6923 - val_loss: 186.7662 - val_acc: 0.7172\n",
      "Epoch 15/20\n",
      "18/18 [==============================] - 0s 2ms/step - loss: 266.5042 - acc: 0.6962 - val_loss: 296.8269 - val_acc: 0.5303\n",
      "Epoch 16/20\n",
      "18/18 [==============================] - 0s 3ms/step - loss: 269.1252 - acc: 0.6910 - val_loss: 212.0766 - val_acc: 0.7520\n",
      "Epoch 17/20\n",
      "18/18 [==============================] - 0s 3ms/step - loss: 260.8518 - acc: 0.6973 - val_loss: 711.4474 - val_acc: 0.4029\n",
      "Epoch 18/20\n",
      "18/18 [==============================] - 0s 3ms/step - loss: 286.1261 - acc: 0.6859 - val_loss: 290.9906 - val_acc: 0.7701\n",
      "Epoch 19/20\n",
      "18/18 [==============================] - 0s 3ms/step - loss: 243.0348 - acc: 0.6998 - val_loss: 261.2851 - val_acc: 0.5257\n",
      "Epoch 20/20\n",
      "18/18 [==============================] - 0s 3ms/step - loss: 270.4772 - acc: 0.6909 - val_loss: 413.2282 - val_acc: 0.7747\n",
      "188/188 [==============================] - 0s 500us/step - loss: 430.0307 - acc: 0.7682\n"
     ]
    },
    {
     "data": {
      "text/plain": [
       "[430.03070068359375, 0.7681666612625122]"
      ]
     },
     "execution_count": 1280,
     "metadata": {},
     "output_type": "execute_result"
    }
   ],
   "source": [
    "history = model.fit(partial_x_train, \n",
    "                   partial_y_train, \n",
    "                   epochs=20, \n",
    "                   batch_size=512,\n",
    "                   validation_data=(x_val, y_val))\n",
    "results=model.evaluate(x_test, y_test)\n",
    "results"
   ]
  },
  {
   "cell_type": "markdown",
   "id": "f363091c",
   "metadata": {},
   "source": [
    "Plotting Training and validation loss"
   ]
  },
  {
   "cell_type": "code",
   "execution_count": 1281,
   "id": "d5be1587",
   "metadata": {
    "scrolled": true
   },
   "outputs": [
    {
     "data": {
      "image/png": "[encoded data removed]",
      "text/plain": [
       "<Figure size 432x288 with 1 Axes>"
      ]
     },
     "metadata": {
      "needs_background": "light"
     },
     "output_type": "display_data"
    }
   ],
   "source": [
    "history_dict = history.history\n",
    "loss_values = history_dict['loss']\n",
    "val_loss_values = history_dict['val_loss']\n",
    "epochs= range(1, 21)\n",
    "plt.plot(epochs, loss_values, 'bo', label='Training loss')\n",
    "plt.plot(epochs, val_loss_values, 'b', label='Validation loss')\n",
    "plt.title('Training and validation loss')\n",
    "plt.xlabel('Epochs')\n",
    "plt.ylabel('Loss')\n",
    "plt.legend()\n",
    "plt.show()"
   ]
  },
  {
   "cell_type": "markdown",
   "id": "8facb956",
   "metadata": {},
   "source": [
    "While I can see that the training loss decreases as time goes on, the same can't be said about the validation loss which might signal some overfitting as the model is performing better on the training set than on the validation set"
   ]
  },
  {
   "cell_type": "markdown",
   "id": "d11dd839",
   "metadata": {},
   "source": [
    "Plot Training and Validation accuracy"
   ]
  },
  {
   "cell_type": "code",
   "execution_count": 1282,
   "id": "0aacd202",
   "metadata": {
    "scrolled": true
   },
   "outputs": [
    {
     "data": {
      "image/png": "[encoded data removed]",
      "text/plain": [
       "<Figure size 432x288 with 1 Axes>"
      ]
     },
     "metadata": {
      "needs_background": "light"
     },
     "output_type": "display_data"
    }
   ],
   "source": [
    "plt.clf()\n",
    "acc_values=history_dict['acc']\n",
    "val_acc_values = history_dict['val_acc']\n",
    "\n",
    "plt.plot(epochs, acc_values, 'bo', label='Training acc')\n",
    "plt.plot(epochs, val_acc_values, 'b', label='Validation acc')\n",
    "plt.title('Training and validation accuracy')\n",
    "plt.xlabel('Epochs')\n",
    "plt.ylabel('accuracy')\n",
    "plt.legend()\n",
    "plt.show()"
   ]
  },
  {
   "cell_type": "markdown",
   "id": "2ef6f75d",
   "metadata": {},
   "source": [
    "I can see that the validation accuracy of the model swings around as more epochs are added while the training accuracy increases very slightly. This can signal that there is not much benefit of more epochs."
   ]
  },
  {
   "cell_type": "markdown",
   "id": "bb41fd7d",
   "metadata": {},
   "source": [
    "Retraining the model from scratch with 4 EPochs"
   ]
  },
  {
   "cell_type": "code",
   "execution_count": 1283,
   "id": "8c9cd370",
   "metadata": {},
   "outputs": [
    {
     "name": "stdout",
     "output_type": "stream",
     "text": [
      "Epoch 1/5\n",
      "47/47 [==============================] - 0s 761us/step - loss: 757.5351 - accuracy: 0.6768\n",
      "Epoch 2/5\n",
      "47/47 [==============================] - 0s 761us/step - loss: 436.9210 - accuracy: 0.6852\n",
      "Epoch 3/5\n",
      "47/47 [==============================] - 0s 761us/step - loss: 309.5598 - accuracy: 0.6852\n",
      "Epoch 4/5\n",
      "47/47 [==============================] - 0s 714us/step - loss: 222.1983 - accuracy: 0.6866\n",
      "Epoch 5/5\n",
      "47/47 [==============================] - 0s 739us/step - loss: 174.5965 - accuracy: 0.6920\n",
      "188/188 [==============================] - 0s 497us/step - loss: 188.2017 - accuracy: 0.4852\n"
     ]
    },
    {
     "data": {
      "text/plain": [
       "[188.2017364501953, 0.48516666889190674]"
      ]
     },
     "execution_count": 1283,
     "metadata": {},
     "output_type": "execute_result"
    }
   ],
   "source": [
    "model=models.Sequential()\n",
    "model.add(layers.Dense(16, activation = 'relu', input_shape=(23,)))\n",
    "model.add(layers.Dense(16, activation = 'relu'))\n",
    "model.add(layers.Dense(1, activation= 'sigmoid'))\n",
    "model.compile(optimizer='rmsprop', \n",
    "             loss='binary_crossentropy',\n",
    "             metrics=['accuracy'])\n",
    "model.fit(x_train, y_train, epochs=5, batch_size=512)\n",
    "results=model.evaluate(x_test, y_test)\n",
    "results"
   ]
  },
  {
   "cell_type": "markdown",
   "id": "2d213d4f",
   "metadata": {},
   "source": [
    "This is an example that shows that less epochs can have a similar or much higher accuracy than more epochs since data that is good on the training set is not always good on the validation set. This model does not even seem to make the training data much bettwe with each epoch while the validation accuracy is swinging wildly around"
   ]
  },
  {
   "cell_type": "markdown",
   "id": "e8aa768c",
   "metadata": {},
   "source": [
    "### Further expiriments\n",
    "1. Using 1 or 3 hidden layers instad of 2"
   ]
  },
  {
   "cell_type": "code",
   "execution_count": 1284,
   "id": "0f9c358b",
   "metadata": {},
   "outputs": [
    {
     "name": "stdout",
     "output_type": "stream",
     "text": [
      "Epoch 1/20\n",
      "18/18 [==============================] - 0s 7ms/step - loss: 10547.9238 - accuracy: 0.3740 - val_loss: 6848.9941 - val_accuracy: 0.4680\n",
      "Epoch 2/20\n",
      "18/18 [==============================] - 0s 3ms/step - loss: 5235.9565 - accuracy: 0.5069 - val_loss: 3760.7161 - val_accuracy: 0.5548\n",
      "Epoch 3/20\n",
      "18/18 [==============================] - 0s 3ms/step - loss: 2822.4702 - accuracy: 0.5932 - val_loss: 2044.4542 - val_accuracy: 0.6419\n",
      "Epoch 4/20\n",
      "18/18 [==============================] - 0s 2ms/step - loss: 1802.1321 - accuracy: 0.6730 - val_loss: 1580.0139 - val_accuracy: 0.7019\n",
      "Epoch 5/20\n",
      "18/18 [==============================] - 0s 2ms/step - loss: 1417.2784 - accuracy: 0.6918 - val_loss: 1286.3024 - val_accuracy: 0.6634\n",
      "Epoch 6/20\n",
      "18/18 [==============================] - 0s 3ms/step - loss: 1153.3193 - accuracy: 0.6978 - val_loss: 1101.4219 - val_accuracy: 0.7221\n",
      "Epoch 7/20\n",
      "18/18 [==============================] - 0s 2ms/step - loss: 990.9727 - accuracy: 0.7063 - val_loss: 941.6229 - val_accuracy: 0.7035\n",
      "Epoch 8/20\n",
      "18/18 [==============================] - 0s 2ms/step - loss: 853.6364 - accuracy: 0.7018 - val_loss: 892.9124 - val_accuracy: 0.7491\n",
      "Epoch 9/20\n",
      "18/18 [==============================] - 0s 2ms/step - loss: 755.1443 - accuracy: 0.7059 - val_loss: 761.1719 - val_accuracy: 0.7310\n",
      "Epoch 10/20\n",
      "18/18 [==============================] - 0s 2ms/step - loss: 663.8087 - accuracy: 0.7022 - val_loss: 753.8504 - val_accuracy: 0.7580\n",
      "Epoch 11/20\n",
      "18/18 [==============================] - 0s 2ms/step - loss: 598.1095 - accuracy: 0.7022 - val_loss: 590.2104 - val_accuracy: 0.7073\n",
      "Epoch 12/20\n",
      "18/18 [==============================] - 0s 3ms/step - loss: 535.6265 - accuracy: 0.7009 - val_loss: 536.3069 - val_accuracy: 0.7210\n",
      "Epoch 13/20\n",
      "18/18 [==============================] - 0s 2ms/step - loss: 499.7348 - accuracy: 0.6999 - val_loss: 512.4240 - val_accuracy: 0.7396\n",
      "Epoch 14/20\n",
      "18/18 [==============================] - 0s 2ms/step - loss: 470.6888 - accuracy: 0.7011 - val_loss: 459.7973 - val_accuracy: 0.6997\n",
      "Epoch 15/20\n",
      "18/18 [==============================] - 0s 3ms/step - loss: 434.9862 - accuracy: 0.6957 - val_loss: 468.2359 - val_accuracy: 0.6247\n",
      "Epoch 16/20\n",
      "18/18 [==============================] - 0s 2ms/step - loss: 426.9456 - accuracy: 0.6914 - val_loss: 473.1173 - val_accuracy: 0.6558\n",
      "Epoch 17/20\n",
      "18/18 [==============================] - 0s 3ms/step - loss: 406.8274 - accuracy: 0.6987 - val_loss: 475.7917 - val_accuracy: 0.5993\n",
      "Epoch 18/20\n",
      "18/18 [==============================] - 0s 2ms/step - loss: 392.1733 - accuracy: 0.6991 - val_loss: 400.4083 - val_accuracy: 0.6826\n",
      "Epoch 19/20\n",
      "18/18 [==============================] - 0s 2ms/step - loss: 392.4442 - accuracy: 0.7000 - val_loss: 462.2254 - val_accuracy: 0.7553\n",
      "Epoch 20/20\n",
      "18/18 [==============================] - 0s 2ms/step - loss: 390.5510 - accuracy: 0.6968 - val_loss: 389.4070 - val_accuracy: 0.7329\n",
      "188/188 [==============================] - 0s 492us/step - loss: 403.0933 - accuracy: 0.7255\n"
     ]
    },
    {
     "data": {
      "text/plain": [
       "[403.0932922363281, 0.7254999876022339]"
      ]
     },
     "execution_count": 1284,
     "metadata": {},
     "output_type": "execute_result"
    }
   ],
   "source": [
    "model=models.Sequential()\n",
    "model.add(layers.Dense(16, activation = 'relu', input_shape=(23,)))\n",
    "model.add(layers.Dense(1, activation= 'sigmoid'))\n",
    "model.compile(optimizer='rmsprop', \n",
    "             loss='binary_crossentropy',\n",
    "             metrics=['accuracy'])\n",
    "history = model.fit(partial_x_train, \n",
    "                   partial_y_train, \n",
    "                   epochs=20, \n",
    "                   batch_size=512,\n",
    "                   validation_data=(x_val, y_val))\n",
    "results=model.evaluate(x_test, y_test)\n",
    "results"
   ]
  },
  {
   "cell_type": "code",
   "execution_count": 1285,
   "id": "35ca11af",
   "metadata": {},
   "outputs": [
    {
     "data": {
      "image/png": "[encoded data removed]",
      "text/plain": [
       "<Figure size 432x288 with 1 Axes>"
      ]
     },
     "metadata": {
      "needs_background": "light"
     },
     "output_type": "display_data"
    }
   ],
   "source": [
    "history_dict = history.history\n",
    "loss_values = history_dict['loss']\n",
    "val_loss_values = history_dict['val_loss']\n",
    "epochs= range(1, 21)\n",
    "plt.plot(epochs, loss_values, 'bo', label='Training loss')\n",
    "plt.plot(epochs, val_loss_values, 'b', label='Validation loss')\n",
    "plt.title('Training and validation loss')\n",
    "plt.xlabel('Epochs')\n",
    "plt.ylabel('Loss')\n",
    "plt.legend()\n",
    "plt.show()"
   ]
  },
  {
   "cell_type": "code",
   "execution_count": 1286,
   "id": "c73e3819",
   "metadata": {},
   "outputs": [
    {
     "data": {
      "image/png": "[encoded data removed]",
      "text/plain": [
       "<Figure size 432x288 with 1 Axes>"
      ]
     },
     "metadata": {
      "needs_background": "light"
     },
     "output_type": "display_data"
    }
   ],
   "source": [
    "plt.clf()\n",
    "acc_values=history_dict['accuracy']\n",
    "val_acc_values = history_dict['val_accuracy']\n",
    "\n",
    "plt.plot(epochs, acc_values, 'bo', label='Training acc')\n",
    "plt.plot(epochs, val_acc_values, 'b', label='Validation acc')\n",
    "plt.title('Training and validation accuracy')\n",
    "plt.xlabel('Epochs')\n",
    "plt.ylabel('accuracy')\n",
    "plt.legend()\n",
    "plt.show()"
   ]
  },
  {
   "cell_type": "markdown",
   "id": "8995968d",
   "metadata": {},
   "source": [
    "Using only 1 hidden layer is pretty similar if not a little better than our model from before. This helps demonstrate that more layers is not always better"
   ]
  },
  {
   "cell_type": "code",
   "execution_count": 1287,
   "id": "330c6468",
   "metadata": {},
   "outputs": [
    {
     "name": "stdout",
     "output_type": "stream",
     "text": [
      "Epoch 1/20\n",
      "18/18 [==============================] - 1s 8ms/step - loss: 899.9918 - accuracy: 0.7201 - val_loss: 442.4793 - val_accuracy: 0.7333\n",
      "Epoch 2/20\n",
      "18/18 [==============================] - 0s 3ms/step - loss: 315.1893 - accuracy: 0.6813 - val_loss: 244.6055 - val_accuracy: 0.7091\n",
      "Epoch 3/20\n",
      "18/18 [==============================] - 0s 3ms/step - loss: 219.0180 - accuracy: 0.6948 - val_loss: 165.8742 - val_accuracy: 0.7163\n",
      "Epoch 4/20\n",
      "18/18 [==============================] - 0s 3ms/step - loss: 172.0663 - accuracy: 0.6879 - val_loss: 147.5805 - val_accuracy: 0.5963\n",
      "Epoch 5/20\n",
      "18/18 [==============================] - 0s 3ms/step - loss: 147.2095 - accuracy: 0.6924 - val_loss: 196.1342 - val_accuracy: 0.7635\n",
      "Epoch 6/20\n",
      "18/18 [==============================] - 0s 3ms/step - loss: 132.6437 - accuracy: 0.6996 - val_loss: 140.9670 - val_accuracy: 0.7487\n",
      "Epoch 7/20\n",
      "18/18 [==============================] - 0s 3ms/step - loss: 111.0147 - accuracy: 0.6917 - val_loss: 175.8635 - val_accuracy: 0.7673\n",
      "Epoch 8/20\n",
      "18/18 [==============================] - 0s 3ms/step - loss: 108.8534 - accuracy: 0.6937 - val_loss: 145.0125 - val_accuracy: 0.7655\n",
      "Epoch 9/20\n",
      "18/18 [==============================] - 0s 3ms/step - loss: 90.3459 - accuracy: 0.7044 - val_loss: 77.8269 - val_accuracy: 0.7387\n",
      "Epoch 10/20\n",
      "18/18 [==============================] - 0s 3ms/step - loss: 82.4825 - accuracy: 0.6926 - val_loss: 110.3618 - val_accuracy: 0.7694\n",
      "Epoch 11/20\n",
      "18/18 [==============================] - 0s 3ms/step - loss: 69.4144 - accuracy: 0.7083 - val_loss: 71.3465 - val_accuracy: 0.7473\n",
      "Epoch 12/20\n",
      "18/18 [==============================] - 0s 3ms/step - loss: 67.1277 - accuracy: 0.6933 - val_loss: 91.9185 - val_accuracy: 0.7660\n",
      "Epoch 13/20\n",
      "18/18 [==============================] - 0s 3ms/step - loss: 65.1047 - accuracy: 0.6947 - val_loss: 61.6330 - val_accuracy: 0.7532\n",
      "Epoch 14/20\n",
      "18/18 [==============================] - 0s 3ms/step - loss: 57.3011 - accuracy: 0.7010 - val_loss: 51.7216 - val_accuracy: 0.6453\n",
      "Epoch 15/20\n",
      "18/18 [==============================] - 0s 3ms/step - loss: 59.3776 - accuracy: 0.6880 - val_loss: 45.3746 - val_accuracy: 0.7309\n",
      "Epoch 16/20\n",
      "18/18 [==============================] - 0s 3ms/step - loss: 49.6394 - accuracy: 0.6954 - val_loss: 94.4017 - val_accuracy: 0.7724\n",
      "Epoch 17/20\n",
      "18/18 [==============================] - 0s 3ms/step - loss: 47.8979 - accuracy: 0.7018 - val_loss: 105.4394 - val_accuracy: 0.7725\n",
      "Epoch 18/20\n",
      "18/18 [==============================] - 0s 3ms/step - loss: 51.0111 - accuracy: 0.7019 - val_loss: 55.0474 - val_accuracy: 0.7673\n",
      "Epoch 19/20\n",
      "18/18 [==============================] - 0s 3ms/step - loss: 45.2973 - accuracy: 0.6894 - val_loss: 59.5177 - val_accuracy: 0.7638\n",
      "Epoch 20/20\n",
      "18/18 [==============================] - 0s 3ms/step - loss: 44.2807 - accuracy: 0.6976 - val_loss: 67.9212 - val_accuracy: 0.7711\n",
      "188/188 [==============================] - 0s 511us/step - loss: 70.1480 - accuracy: 0.7610\n"
     ]
    },
    {
     "data": {
      "text/plain": [
       "[70.14796447753906, 0.7609999775886536]"
      ]
     },
     "execution_count": 1287,
     "metadata": {},
     "output_type": "execute_result"
    }
   ],
   "source": [
    "model=models.Sequential()\n",
    "model.add(layers.Dense(16, activation = 'relu', input_shape=(23,)))\n",
    "model.add(layers.Dense(16, activation = 'relu'))\n",
    "model.add(layers.Dense(16, activation = 'relu'))\n",
    "model.add(layers.Dense(1, activation= 'sigmoid'))\n",
    "model.compile(optimizer='rmsprop', \n",
    "             loss='binary_crossentropy',\n",
    "             metrics=['accuracy'])\n",
    "history = model.fit(partial_x_train, \n",
    "                   partial_y_train, \n",
    "                   epochs=20, \n",
    "                   batch_size=512,\n",
    "                   validation_data=(x_val, y_val))\n",
    "results=model.evaluate(x_test, y_test)\n",
    "results"
   ]
  },
  {
   "cell_type": "code",
   "execution_count": 1288,
   "id": "04e75896",
   "metadata": {},
   "outputs": [
    {
     "data": {
      "image/png": "[encoded data removed]",
      "text/plain": [
       "<Figure size 432x288 with 1 Axes>"
      ]
     },
     "metadata": {
      "needs_background": "light"
     },
     "output_type": "display_data"
    }
   ],
   "source": [
    "history_dict = history.history\n",
    "loss_values = history_dict['loss']\n",
    "val_loss_values = history_dict['val_loss']\n",
    "epochs= range(1, 21)\n",
    "plt.plot(epochs, loss_values, 'bo', label='Training loss')\n",
    "plt.plot(epochs, val_loss_values, 'b', label='Validation loss')\n",
    "plt.title('Training and validation loss')\n",
    "plt.xlabel('Epochs')\n",
    "plt.ylabel('Loss')\n",
    "plt.legend()\n",
    "plt.show()"
   ]
  },
  {
   "cell_type": "code",
   "execution_count": 1289,
   "id": "eea6abed",
   "metadata": {},
   "outputs": [
    {
     "data": {
      "image/png": "[encoded data removed]",
      "text/plain": [
       "<Figure size 432x288 with 1 Axes>"
      ]
     },
     "metadata": {
      "needs_background": "light"
     },
     "output_type": "display_data"
    }
   ],
   "source": [
    "plt.clf()\n",
    "acc_values=history_dict['accuracy']\n",
    "val_acc_values = history_dict['val_accuracy']\n",
    "\n",
    "plt.plot(epochs, acc_values, 'bo', label='Training acc')\n",
    "plt.plot(epochs, val_acc_values, 'b', label='Validation acc')\n",
    "plt.title('Training and validation accuracy')\n",
    "plt.xlabel('Epochs')\n",
    "plt.ylabel('accuracy')\n",
    "plt.legend()\n",
    "plt.show()"
   ]
  },
  {
   "cell_type": "markdown",
   "id": "7a814e03",
   "metadata": {},
   "source": [
    "Accuracy of this model does not change much with the third layer added to this model. This further shows that the number of hidden layers is not always so important"
   ]
  },
  {
   "cell_type": "markdown",
   "id": "55526560",
   "metadata": {},
   "source": [
    "2. Using Layers with hidden or fewer units: eg 32, 64"
   ]
  },
  {
   "cell_type": "code",
   "execution_count": 1290,
   "id": "3440785f",
   "metadata": {},
   "outputs": [
    {
     "name": "stdout",
     "output_type": "stream",
     "text": [
      "Epoch 1/20\n",
      "47/47 [==============================] - 0s 3ms/step - loss: 1643.8715 - accuracy: 0.6894 - val_loss: 1684.1818 - val_accuracy: 0.7793\n",
      "Epoch 2/20\n",
      "47/47 [==============================] - 0s 2ms/step - loss: 863.6080 - accuracy: 0.6855 - val_loss: 1935.4717 - val_accuracy: 0.7799\n",
      "Epoch 3/20\n",
      "47/47 [==============================] - 0s 2ms/step - loss: 719.6313 - accuracy: 0.6961 - val_loss: 1073.6594 - val_accuracy: 0.3381\n",
      "Epoch 4/20\n",
      "47/47 [==============================] - 0s 2ms/step - loss: 726.4856 - accuracy: 0.6820 - val_loss: 303.1936 - val_accuracy: 0.6823\n",
      "Epoch 5/20\n",
      "47/47 [==============================] - 0s 2ms/step - loss: 615.4434 - accuracy: 0.6895 - val_loss: 574.0370 - val_accuracy: 0.7790\n",
      "Epoch 6/20\n",
      "47/47 [==============================] - 0s 2ms/step - loss: 595.9399 - accuracy: 0.6892 - val_loss: 463.7474 - val_accuracy: 0.7775\n",
      "Epoch 7/20\n",
      "47/47 [==============================] - 0s 2ms/step - loss: 520.2571 - accuracy: 0.6914 - val_loss: 484.5416 - val_accuracy: 0.5596\n",
      "Epoch 8/20\n",
      "47/47 [==============================] - 0s 2ms/step - loss: 519.6178 - accuracy: 0.6882 - val_loss: 386.7868 - val_accuracy: 0.7786\n",
      "Epoch 9/20\n",
      "47/47 [==============================] - 0s 2ms/step - loss: 447.3102 - accuracy: 0.6908 - val_loss: 231.0959 - val_accuracy: 0.7409\n",
      "Epoch 10/20\n",
      "47/47 [==============================] - 0s 2ms/step - loss: 423.3036 - accuracy: 0.6901 - val_loss: 368.8669 - val_accuracy: 0.4067\n",
      "Epoch 11/20\n",
      "47/47 [==============================] - 0s 2ms/step - loss: 396.1152 - accuracy: 0.6875 - val_loss: 813.5532 - val_accuracy: 0.7801\n",
      "Epoch 12/20\n",
      "47/47 [==============================] - 0s 2ms/step - loss: 404.4655 - accuracy: 0.6954 - val_loss: 281.8083 - val_accuracy: 0.7727\n",
      "Epoch 13/20\n",
      "47/47 [==============================] - 0s 2ms/step - loss: 340.6669 - accuracy: 0.6895 - val_loss: 506.4792 - val_accuracy: 0.7798\n",
      "Epoch 14/20\n",
      "47/47 [==============================] - 0s 2ms/step - loss: 327.9547 - accuracy: 0.6948 - val_loss: 314.5422 - val_accuracy: 0.6929\n",
      "Epoch 15/20\n",
      "47/47 [==============================] - 0s 2ms/step - loss: 307.1480 - accuracy: 0.6911 - val_loss: 90.1049 - val_accuracy: 0.7456\n",
      "Epoch 16/20\n",
      "47/47 [==============================] - 0s 2ms/step - loss: 298.1131 - accuracy: 0.6930 - val_loss: 114.0691 - val_accuracy: 0.6810\n",
      "Epoch 17/20\n",
      "47/47 [==============================] - 0s 2ms/step - loss: 275.1559 - accuracy: 0.6883 - val_loss: 470.2132 - val_accuracy: 0.7802\n",
      "Epoch 18/20\n",
      "47/47 [==============================] - 0s 2ms/step - loss: 274.8954 - accuracy: 0.6931 - val_loss: 148.0974 - val_accuracy: 0.7774\n",
      "Epoch 19/20\n",
      "47/47 [==============================] - 0s 2ms/step - loss: 252.3739 - accuracy: 0.6980 - val_loss: 357.8486 - val_accuracy: 0.4369\n",
      "Epoch 20/20\n",
      "47/47 [==============================] - 0s 2ms/step - loss: 241.8074 - accuracy: 0.6894 - val_loss: 588.8361 - val_accuracy: 0.7801\n",
      "188/188 [==============================] - 0s 509us/step - loss: 621.4499 - accuracy: 0.7697\n"
     ]
    },
    {
     "data": {
      "text/plain": [
       "[621.4498901367188, 0.7696666717529297]"
      ]
     },
     "execution_count": 1290,
     "metadata": {},
     "output_type": "execute_result"
    }
   ],
   "source": [
    "model=models.Sequential()\n",
    "model.add(layers.Dense(64, activation = 'relu', input_shape=(23,)))\n",
    "model.add(layers.Dense(64, activation = 'relu'))\n",
    "model.add(layers.Dense(1, activation= 'sigmoid'))\n",
    "model.compile(optimizer='rmsprop', \n",
    "             loss='binary_crossentropy',\n",
    "             metrics=['accuracy'])\n",
    "history=model.fit(x_train, y_train, epochs=20, batch_size=512, validation_data=(x_val, y_val))\n",
    "results=model.evaluate(x_test, y_test)\n",
    "results"
   ]
  },
  {
   "cell_type": "code",
   "execution_count": 1291,
   "id": "c217ac7c",
   "metadata": {},
   "outputs": [
    {
     "data": {
      "image/png": "[encoded data removed]",
      "text/plain": [
       "<Figure size 432x288 with 1 Axes>"
      ]
     },
     "metadata": {
      "needs_background": "light"
     },
     "output_type": "display_data"
    }
   ],
   "source": [
    "plt.clf()\n",
    "acc_values=history_dict['accuracy']\n",
    "val_acc_values = history_dict['val_accuracy']\n",
    "\n",
    "plt.plot(epochs, acc_values, 'bo', label='Training acc')\n",
    "plt.plot(epochs, val_acc_values, 'b', label='Validation acc')\n",
    "plt.title('Training and validation accuracy')\n",
    "plt.xlabel('Epochs')\n",
    "plt.ylabel('accuracy')\n",
    "plt.legend()\n",
    "plt.show()"
   ]
  },
  {
   "cell_type": "markdown",
   "id": "cea494ec",
   "metadata": {},
   "source": [
    "3. Using mse instead of binary_crossentropy"
   ]
  },
  {
   "cell_type": "code",
   "execution_count": 1292,
   "id": "b7bb18bf",
   "metadata": {},
   "outputs": [
    {
     "name": "stdout",
     "output_type": "stream",
     "text": [
      "Epoch 1/20\n",
      "47/47 [==============================] - 0s 3ms/step - loss: 0.2190 - accuracy: 0.7810 - val_loss: 0.2198 - val_accuracy: 0.7802\n",
      "Epoch 2/20\n",
      "47/47 [==============================] - 0s 1ms/step - loss: 0.2190 - accuracy: 0.7810 - val_loss: 0.2198 - val_accuracy: 0.7802\n",
      "Epoch 3/20\n",
      "47/47 [==============================] - 0s 1ms/step - loss: 0.2190 - accuracy: 0.7810 - val_loss: 0.2198 - val_accuracy: 0.7802\n",
      "Epoch 4/20\n",
      "47/47 [==============================] - 0s 1ms/step - loss: 0.2190 - accuracy: 0.7810 - val_loss: 0.2198 - val_accuracy: 0.7802\n",
      "Epoch 5/20\n",
      "47/47 [==============================] - 0s 1ms/step - loss: 0.2190 - accuracy: 0.7810 - val_loss: 0.2198 - val_accuracy: 0.7802\n",
      "Epoch 6/20\n",
      "47/47 [==============================] - 0s 1ms/step - loss: 0.2190 - accuracy: 0.7810 - val_loss: 0.2198 - val_accuracy: 0.7802\n",
      "Epoch 7/20\n",
      "47/47 [==============================] - 0s 1ms/step - loss: 0.2190 - accuracy: 0.7810 - val_loss: 0.2198 - val_accuracy: 0.7802\n",
      "Epoch 8/20\n",
      "47/47 [==============================] - 0s 1ms/step - loss: 0.2190 - accuracy: 0.7810 - val_loss: 0.2198 - val_accuracy: 0.7802\n",
      "Epoch 9/20\n",
      "47/47 [==============================] - 0s 1ms/step - loss: 0.2190 - accuracy: 0.7810 - val_loss: 0.2198 - val_accuracy: 0.7802\n",
      "Epoch 10/20\n",
      "47/47 [==============================] - 0s 1ms/step - loss: 0.2190 - accuracy: 0.7810 - val_loss: 0.2198 - val_accuracy: 0.7802\n",
      "Epoch 11/20\n",
      "47/47 [==============================] - 0s 1ms/step - loss: 0.2190 - accuracy: 0.7810 - val_loss: 0.2198 - val_accuracy: 0.7802\n",
      "Epoch 12/20\n",
      "47/47 [==============================] - 0s 1ms/step - loss: 0.2190 - accuracy: 0.7810 - val_loss: 0.2198 - val_accuracy: 0.7802\n",
      "Epoch 13/20\n",
      "47/47 [==============================] - 0s 1ms/step - loss: 0.2190 - accuracy: 0.7810 - val_loss: 0.2198 - val_accuracy: 0.7802\n",
      "Epoch 14/20\n",
      "47/47 [==============================] - 0s 1ms/step - loss: 0.2190 - accuracy: 0.7810 - val_loss: 0.2198 - val_accuracy: 0.7802\n",
      "Epoch 15/20\n",
      "47/47 [==============================] - 0s 1ms/step - loss: 0.2190 - accuracy: 0.7810 - val_loss: 0.2198 - val_accuracy: 0.7802\n",
      "Epoch 16/20\n",
      "47/47 [==============================] - 0s 1ms/step - loss: 0.2190 - accuracy: 0.7810 - val_loss: 0.2198 - val_accuracy: 0.7802\n",
      "Epoch 17/20\n",
      "47/47 [==============================] - 0s 1ms/step - loss: 0.2190 - accuracy: 0.7810 - val_loss: 0.2198 - val_accuracy: 0.7802\n",
      "Epoch 18/20\n",
      "47/47 [==============================] - 0s 1ms/step - loss: 0.2190 - accuracy: 0.7810 - val_loss: 0.2198 - val_accuracy: 0.7802\n",
      "Epoch 19/20\n",
      "47/47 [==============================] - 0s 1ms/step - loss: 0.2190 - accuracy: 0.7810 - val_loss: 0.2198 - val_accuracy: 0.7802\n",
      "Epoch 20/20\n",
      "47/47 [==============================] - 0s 1ms/step - loss: 0.2190 - accuracy: 0.7810 - val_loss: 0.2198 - val_accuracy: 0.7802\n",
      "188/188 [==============================] - 0s 484us/step - loss: 0.2297 - accuracy: 0.7703\n"
     ]
    },
    {
     "data": {
      "text/plain": [
       "[0.22966666519641876, 0.7703333497047424]"
      ]
     },
     "execution_count": 1292,
     "metadata": {},
     "output_type": "execute_result"
    }
   ],
   "source": [
    "model=models.Sequential()\n",
    "model.add(layers.Dense(16, activation = 'relu', input_shape=(23,)))\n",
    "model.add(layers.Dense(16, activation = 'relu'))\n",
    "model.add(layers.Dense(1, activation= 'sigmoid'))\n",
    "model.compile(optimizer='rmsprop', \n",
    "             loss='mse',\n",
    "             metrics=['accuracy'])\n",
    "history=model.fit(x_train, y_train, epochs=20, batch_size=512, validation_data=(x_val, y_val))\n",
    "results=model.evaluate(x_test, y_test)\n",
    "results"
   ]
  },
  {
   "cell_type": "markdown",
   "id": "d87b1e6a",
   "metadata": {},
   "source": [
    "Using MSE instead of cross entropy did not change the accuracy by much. Typically MSE is worse on classification models than cross entropy is since it assumes that it is a normal distribution. Also the accuracy doesn't swing nearly as much"
   ]
  },
  {
   "cell_type": "markdown",
   "id": "7ceb4fe8",
   "metadata": {},
   "source": [
    "4. Use tanh instead of relu in activation function"
   ]
  },
  {
   "cell_type": "code",
   "execution_count": 1293,
   "id": "806a593d",
   "metadata": {},
   "outputs": [
    {
     "name": "stdout",
     "output_type": "stream",
     "text": [
      "Epoch 1/20\n",
      "47/47 [==============================] - 0s 732us/step - loss: 0.5476 - accuracy: 0.7655\n",
      "Epoch 2/20\n",
      "47/47 [==============================] - 0s 717us/step - loss: 0.5281 - accuracy: 0.7782\n",
      "Epoch 3/20\n",
      "47/47 [==============================] - 0s 695us/step - loss: 0.5232 - accuracy: 0.7796\n",
      "Epoch 4/20\n",
      "47/47 [==============================] - 0s 736us/step - loss: 0.5207 - accuracy: 0.7806\n",
      "Epoch 5/20\n",
      "47/47 [==============================] - 0s 739us/step - loss: 0.5193 - accuracy: 0.7808\n",
      "Epoch 6/20\n",
      "47/47 [==============================] - 0s 741us/step - loss: 0.5177 - accuracy: 0.7808\n",
      "Epoch 7/20\n",
      "47/47 [==============================] - 0s 714us/step - loss: 0.5167 - accuracy: 0.7808\n",
      "Epoch 8/20\n",
      "47/47 [==============================] - 0s 739us/step - loss: 0.5159 - accuracy: 0.7809\n",
      "Epoch 9/20\n",
      "47/47 [==============================] - 0s 720us/step - loss: 0.5158 - accuracy: 0.7809\n",
      "Epoch 10/20\n",
      "47/47 [==============================] - 0s 716us/step - loss: 0.5151 - accuracy: 0.7810\n",
      "Epoch 11/20\n",
      "47/47 [==============================] - 0s 739us/step - loss: 0.5150 - accuracy: 0.7810\n",
      "Epoch 12/20\n",
      "47/47 [==============================] - 0s 801us/step - loss: 0.5150 - accuracy: 0.7810\n",
      "Epoch 13/20\n",
      "47/47 [==============================] - 0s 724us/step - loss: 0.5155 - accuracy: 0.7810\n",
      "Epoch 14/20\n",
      "47/47 [==============================] - 0s 753us/step - loss: 0.5158 - accuracy: 0.7810\n",
      "Epoch 15/20\n",
      "47/47 [==============================] - 0s 740us/step - loss: 0.5153 - accuracy: 0.7810\n",
      "Epoch 16/20\n",
      "47/47 [==============================] - 0s 739us/step - loss: 0.5156 - accuracy: 0.7809\n",
      "Epoch 17/20\n",
      "47/47 [==============================] - 0s 711us/step - loss: 0.5153 - accuracy: 0.7809\n",
      "Epoch 18/20\n",
      "47/47 [==============================] - 0s 749us/step - loss: 0.5146 - accuracy: 0.7809\n",
      "Epoch 19/20\n",
      "47/47 [==============================] - 0s 738us/step - loss: 0.5146 - accuracy: 0.7809\n",
      "Epoch 20/20\n",
      "47/47 [==============================] - 0s 742us/step - loss: 0.5148 - accuracy: 0.7809\n",
      "188/188 [==============================] - 0s 511us/step - loss: 0.5266 - accuracy: 0.7703\n"
     ]
    },
    {
     "data": {
      "text/plain": [
       "[0.5265856981277466, 0.7703333497047424]"
      ]
     },
     "execution_count": 1293,
     "metadata": {},
     "output_type": "execute_result"
    }
   ],
   "source": [
    "model=models.Sequential()\n",
    "model.add(layers.Dense(16, activation = 'tanh', input_shape=(23,)))\n",
    "model.add(layers.Dense(16, activation = 'tanh'))\n",
    "model.add(layers.Dense(1, activation= 'sigmoid'))\n",
    "model.compile(optimizer='rmsprop', \n",
    "             loss='binary_crossentropy',\n",
    "             metrics=['accuracy'])\n",
    "model.fit(x_train, y_train, epochs=20, batch_size=512)\n",
    "results=model.evaluate(x_test, y_test)\n",
    "results"
   ]
  },
  {
   "cell_type": "markdown",
   "id": "8f221d2e",
   "metadata": {},
   "source": [
    "Using tanh has helped out model with a slightly higher accuracy score and I can see that it doesn't swing nearly as much but rather just levels off"
   ]
  },
  {
   "cell_type": "markdown",
   "id": "36024a05",
   "metadata": {},
   "source": [
    "## A Multiclass classification model"
   ]
  },
  {
   "cell_type": "code",
   "execution_count": 1258,
   "id": "42567656",
   "metadata": {},
   "outputs": [],
   "source": [
    "from sklearn.preprocessing import OneHotEncoder\n",
    "from sklearn.preprocessing import LabelEncoder"
   ]
  },
  {
   "cell_type": "code",
   "execution_count": 1259,
   "id": "4c469191",
   "metadata": {},
   "outputs": [
    {
     "data": {
      "text/plain": [
       "4177"
      ]
     },
     "execution_count": 1259,
     "metadata": {},
     "output_type": "execute_result"
    }
   ],
   "source": [
    "db=pd.read_csv(\"C:/Users/Aaron Shabanian/Documents/MachineLearning/MachineLearningAssignment2/abalone.csv\")\n",
    "db.head()\n",
    "len(db)"
   ]
  },
  {
   "cell_type": "code",
   "execution_count": 1260,
   "id": "20e07ba0",
   "metadata": {},
   "outputs": [
    {
     "data": {
      "text/html": [
       "<div>\n",
       "<style scoped>\n",
       "    .dataframe tbody tr th:only-of-type {\n",
       "        vertical-align: middle;\n",
       "    }\n",
       "\n",
       "    .dataframe tbody tr th {\n",
       "        vertical-align: top;\n",
       "    }\n",
       "\n",
       "    .dataframe thead th {\n",
       "        text-align: right;\n",
       "    }\n",
       "</style>\n",
       "<table border=\"1\" class=\"dataframe\">\n",
       "  <thead>\n",
       "    <tr style=\"text-align: right;\">\n",
       "      <th></th>\n",
       "      <th>Sex</th>\n",
       "      <th>Length</th>\n",
       "      <th>Diameter</th>\n",
       "      <th>Height</th>\n",
       "      <th>Whole weight</th>\n",
       "      <th>Shucked weight</th>\n",
       "      <th>Viscera weight</th>\n",
       "      <th>Shell weight</th>\n",
       "      <th>Rings</th>\n",
       "    </tr>\n",
       "  </thead>\n",
       "  <tbody>\n",
       "    <tr>\n",
       "      <th>0</th>\n",
       "      <td>M</td>\n",
       "      <td>0.455</td>\n",
       "      <td>0.365</td>\n",
       "      <td>0.095</td>\n",
       "      <td>0.5140</td>\n",
       "      <td>0.2245</td>\n",
       "      <td>0.1010</td>\n",
       "      <td>0.150</td>\n",
       "      <td>15</td>\n",
       "    </tr>\n",
       "    <tr>\n",
       "      <th>1</th>\n",
       "      <td>M</td>\n",
       "      <td>0.350</td>\n",
       "      <td>0.265</td>\n",
       "      <td>0.090</td>\n",
       "      <td>0.2255</td>\n",
       "      <td>0.0995</td>\n",
       "      <td>0.0485</td>\n",
       "      <td>0.070</td>\n",
       "      <td>7</td>\n",
       "    </tr>\n",
       "    <tr>\n",
       "      <th>2</th>\n",
       "      <td>F</td>\n",
       "      <td>0.530</td>\n",
       "      <td>0.420</td>\n",
       "      <td>0.135</td>\n",
       "      <td>0.6770</td>\n",
       "      <td>0.2565</td>\n",
       "      <td>0.1415</td>\n",
       "      <td>0.210</td>\n",
       "      <td>9</td>\n",
       "    </tr>\n",
       "    <tr>\n",
       "      <th>3</th>\n",
       "      <td>M</td>\n",
       "      <td>0.440</td>\n",
       "      <td>0.365</td>\n",
       "      <td>0.125</td>\n",
       "      <td>0.5160</td>\n",
       "      <td>0.2155</td>\n",
       "      <td>0.1140</td>\n",
       "      <td>0.155</td>\n",
       "      <td>10</td>\n",
       "    </tr>\n",
       "    <tr>\n",
       "      <th>4</th>\n",
       "      <td>I</td>\n",
       "      <td>0.330</td>\n",
       "      <td>0.255</td>\n",
       "      <td>0.080</td>\n",
       "      <td>0.2050</td>\n",
       "      <td>0.0895</td>\n",
       "      <td>0.0395</td>\n",
       "      <td>0.055</td>\n",
       "      <td>7</td>\n",
       "    </tr>\n",
       "  </tbody>\n",
       "</table>\n",
       "</div>"
      ],
      "text/plain": [
       "  Sex  Length  Diameter  Height  Whole weight  Shucked weight  Viscera weight  \\\n",
       "0   M   0.455     0.365   0.095        0.5140          0.2245          0.1010   \n",
       "1   M   0.350     0.265   0.090        0.2255          0.0995          0.0485   \n",
       "2   F   0.530     0.420   0.135        0.6770          0.2565          0.1415   \n",
       "3   M   0.440     0.365   0.125        0.5160          0.2155          0.1140   \n",
       "4   I   0.330     0.255   0.080        0.2050          0.0895          0.0395   \n",
       "\n",
       "   Shell weight  Rings  \n",
       "0         0.150     15  \n",
       "1         0.070      7  \n",
       "2         0.210      9  \n",
       "3         0.155     10  \n",
       "4         0.055      7  "
      ]
     },
     "execution_count": 1260,
     "metadata": {},
     "output_type": "execute_result"
    }
   ],
   "source": [
    "db.dropna()\n",
    "len(db)\n",
    "db.head()"
   ]
  },
  {
   "cell_type": "markdown",
   "id": "ca7de9ee",
   "metadata": {},
   "source": [
    "Encoding the Sex column as integer categories so it can be fed through the neural network"
   ]
  },
  {
   "cell_type": "code",
   "execution_count": 1261,
   "id": "5f2cb581",
   "metadata": {},
   "outputs": [],
   "source": [
    "db.dtypes\n",
    "db[\"Sex\"].value_counts()\n",
    "db[\"Sex\"] = db[\"Sex\"].astype('category')\n",
    "db['Sex_code']=db[\"Sex\"].cat.codes"
   ]
  },
  {
   "cell_type": "code",
   "execution_count": 1262,
   "id": "06c2bad3",
   "metadata": {},
   "outputs": [
    {
     "data": {
      "text/html": [
       "<div>\n",
       "<style scoped>\n",
       "    .dataframe tbody tr th:only-of-type {\n",
       "        vertical-align: middle;\n",
       "    }\n",
       "\n",
       "    .dataframe tbody tr th {\n",
       "        vertical-align: top;\n",
       "    }\n",
       "\n",
       "    .dataframe thead th {\n",
       "        text-align: right;\n",
       "    }\n",
       "</style>\n",
       "<table border=\"1\" class=\"dataframe\">\n",
       "  <thead>\n",
       "    <tr style=\"text-align: right;\">\n",
       "      <th></th>\n",
       "      <th>Sex</th>\n",
       "      <th>Length</th>\n",
       "      <th>Diameter</th>\n",
       "      <th>Height</th>\n",
       "      <th>Whole weight</th>\n",
       "      <th>Shucked weight</th>\n",
       "      <th>Viscera weight</th>\n",
       "      <th>Shell weight</th>\n",
       "      <th>Rings</th>\n",
       "      <th>Sex_code</th>\n",
       "    </tr>\n",
       "  </thead>\n",
       "  <tbody>\n",
       "    <tr>\n",
       "      <th>0</th>\n",
       "      <td>M</td>\n",
       "      <td>0.455</td>\n",
       "      <td>0.365</td>\n",
       "      <td>0.095</td>\n",
       "      <td>0.5140</td>\n",
       "      <td>0.2245</td>\n",
       "      <td>0.1010</td>\n",
       "      <td>0.150</td>\n",
       "      <td>15</td>\n",
       "      <td>2</td>\n",
       "    </tr>\n",
       "    <tr>\n",
       "      <th>1</th>\n",
       "      <td>M</td>\n",
       "      <td>0.350</td>\n",
       "      <td>0.265</td>\n",
       "      <td>0.090</td>\n",
       "      <td>0.2255</td>\n",
       "      <td>0.0995</td>\n",
       "      <td>0.0485</td>\n",
       "      <td>0.070</td>\n",
       "      <td>7</td>\n",
       "      <td>2</td>\n",
       "    </tr>\n",
       "    <tr>\n",
       "      <th>2</th>\n",
       "      <td>F</td>\n",
       "      <td>0.530</td>\n",
       "      <td>0.420</td>\n",
       "      <td>0.135</td>\n",
       "      <td>0.6770</td>\n",
       "      <td>0.2565</td>\n",
       "      <td>0.1415</td>\n",
       "      <td>0.210</td>\n",
       "      <td>9</td>\n",
       "      <td>0</td>\n",
       "    </tr>\n",
       "    <tr>\n",
       "      <th>3</th>\n",
       "      <td>M</td>\n",
       "      <td>0.440</td>\n",
       "      <td>0.365</td>\n",
       "      <td>0.125</td>\n",
       "      <td>0.5160</td>\n",
       "      <td>0.2155</td>\n",
       "      <td>0.1140</td>\n",
       "      <td>0.155</td>\n",
       "      <td>10</td>\n",
       "      <td>2</td>\n",
       "    </tr>\n",
       "    <tr>\n",
       "      <th>4</th>\n",
       "      <td>I</td>\n",
       "      <td>0.330</td>\n",
       "      <td>0.255</td>\n",
       "      <td>0.080</td>\n",
       "      <td>0.2050</td>\n",
       "      <td>0.0895</td>\n",
       "      <td>0.0395</td>\n",
       "      <td>0.055</td>\n",
       "      <td>7</td>\n",
       "      <td>1</td>\n",
       "    </tr>\n",
       "  </tbody>\n",
       "</table>\n",
       "</div>"
      ],
      "text/plain": [
       "  Sex  Length  Diameter  Height  Whole weight  Shucked weight  Viscera weight  \\\n",
       "0   M   0.455     0.365   0.095        0.5140          0.2245          0.1010   \n",
       "1   M   0.350     0.265   0.090        0.2255          0.0995          0.0485   \n",
       "2   F   0.530     0.420   0.135        0.6770          0.2565          0.1415   \n",
       "3   M   0.440     0.365   0.125        0.5160          0.2155          0.1140   \n",
       "4   I   0.330     0.255   0.080        0.2050          0.0895          0.0395   \n",
       "\n",
       "   Shell weight  Rings  Sex_code  \n",
       "0         0.150     15         2  \n",
       "1         0.070      7         2  \n",
       "2         0.210      9         0  \n",
       "3         0.155     10         2  \n",
       "4         0.055      7         1  "
      ]
     },
     "execution_count": 1262,
     "metadata": {},
     "output_type": "execute_result"
    }
   ],
   "source": [
    "db.head()"
   ]
  },
  {
   "cell_type": "code",
   "execution_count": 1263,
   "id": "f519f5a6",
   "metadata": {},
   "outputs": [
    {
     "data": {
      "text/plain": [
       "3341"
      ]
     },
     "execution_count": 1263,
     "metadata": {},
     "output_type": "execute_result"
    }
   ],
   "source": [
    "predictors=[\"Length\", \"Diameter\", \"Height\", \"Shucked weight\", \"Viscera weight\", \"Shell weight\", \"Rings\"]\n",
    "x_train, x_test, y_train, y_test =train_test_split(db[predictors], db[\"Sex_code\"], test_size=.2)\n",
    "x_train= x_train.to_numpy()\n",
    "x_test = x_test.to_numpy()\n",
    "y_train = y_train.to_numpy()\n",
    "y_test = y_test.to_numpy()\n",
    "len(x_train)"
   ]
  },
  {
   "cell_type": "markdown",
   "id": "9db00fcd",
   "metadata": {},
   "source": [
    "setting y_train and y_test as categorical"
   ]
  },
  {
   "cell_type": "code",
   "execution_count": 1264,
   "id": "a3bcf7a4",
   "metadata": {},
   "outputs": [],
   "source": [
    "import tensorflow as tf\n",
    "y_train=tf.keras.utils.to_categorical(y_train)\n",
    "y_test=tf.keras.utils.to_categorical(y_test)\n"
   ]
  },
  {
   "cell_type": "markdown",
   "id": "07f3cd04",
   "metadata": {},
   "source": [
    "Building the model"
   ]
  },
  {
   "cell_type": "code",
   "execution_count": 1265,
   "id": "1f5d0a48",
   "metadata": {},
   "outputs": [],
   "source": [
    "model = models.Sequential()\n",
    "model.add(layers.Dense(64, activation='relu', input_shape=(7,)))\n",
    "model.add(layers.Dense(64, activation='relu'))\n",
    "model.add(layers.Dense(3, activation='softmax'))"
   ]
  },
  {
   "cell_type": "markdown",
   "id": "c3bf64d0",
   "metadata": {},
   "source": [
    "Compiling the model"
   ]
  },
  {
   "cell_type": "code",
   "execution_count": 1266,
   "id": "f7012154",
   "metadata": {},
   "outputs": [],
   "source": [
    "model.compile(optimizer='rmsprop',\n",
    "    loss='categorical_crossentropy',\n",
    "    metrics=['accuracy'], \n",
    "    )"
   ]
  },
  {
   "cell_type": "markdown",
   "id": "0ab60de3",
   "metadata": {},
   "source": [
    "Validation set"
   ]
  },
  {
   "cell_type": "code",
   "execution_count": 1267,
   "id": "1bf52c38",
   "metadata": {},
   "outputs": [
    {
     "data": {
      "text/plain": [
       "(841, 7)"
      ]
     },
     "execution_count": 1267,
     "metadata": {},
     "output_type": "execute_result"
    }
   ],
   "source": [
    "x_val = x_train[:2500]\n",
    "partial_x_train = x_train[2500:]\n",
    "y_val = y_train[:2500]\n",
    "partial_y_train = y_train[2500:]\n",
    "partial_x_train.shape\n"
   ]
  },
  {
   "cell_type": "markdown",
   "id": "c6afbef5",
   "metadata": {},
   "source": [
    "Training the model\n"
   ]
  },
  {
   "cell_type": "code",
   "execution_count": 1269,
   "id": "c4a3e74f",
   "metadata": {},
   "outputs": [
    {
     "name": "stdout",
     "output_type": "stream",
     "text": [
      "Epoch 1/20\n",
      "2/2 [==============================] - 0s 39ms/step - loss: 1.0589 - accuracy: 0.4245 - val_loss: 1.0526 - val_accuracy: 0.3776\n",
      "Epoch 2/20\n",
      "2/2 [==============================] - 0s 19ms/step - loss: 1.0471 - accuracy: 0.4209 - val_loss: 1.0440 - val_accuracy: 0.4124\n",
      "Epoch 3/20\n",
      "2/2 [==============================] - 0s 20ms/step - loss: 1.0439 - accuracy: 0.4518 - val_loss: 1.0475 - val_accuracy: 0.3796\n",
      "Epoch 4/20\n",
      "2/2 [==============================] - 0s 21ms/step - loss: 1.0491 - accuracy: 0.4293 - val_loss: 1.0480 - val_accuracy: 0.3776\n",
      "Epoch 5/20\n",
      "2/2 [==============================] - 0s 20ms/step - loss: 1.0446 - accuracy: 0.4269 - val_loss: 1.0427 - val_accuracy: 0.4052\n",
      "Epoch 6/20\n",
      "2/2 [==============================] - 0s 20ms/step - loss: 1.0378 - accuracy: 0.4400 - val_loss: 1.0366 - val_accuracy: 0.4484\n",
      "Epoch 7/20\n",
      "2/2 [==============================] - 0s 19ms/step - loss: 1.0354 - accuracy: 0.4340 - val_loss: 1.0387 - val_accuracy: 0.5136\n",
      "Epoch 8/20\n",
      "2/2 [==============================] - 0s 19ms/step - loss: 1.0371 - accuracy: 0.4709 - val_loss: 1.0354 - val_accuracy: 0.5208\n",
      "Epoch 9/20\n",
      "2/2 [==============================] - 0s 21ms/step - loss: 1.0404 - accuracy: 0.4542 - val_loss: 1.0356 - val_accuracy: 0.4564\n",
      "Epoch 10/20\n",
      "2/2 [==============================] - 0s 23ms/step - loss: 1.0334 - accuracy: 0.4590 - val_loss: 1.0292 - val_accuracy: 0.4284\n",
      "Epoch 11/20\n",
      "2/2 [==============================] - 0s 23ms/step - loss: 1.0350 - accuracy: 0.4590 - val_loss: 1.0480 - val_accuracy: 0.3888\n",
      "Epoch 12/20\n",
      "2/2 [==============================] - 0s 22ms/step - loss: 1.0335 - accuracy: 0.4376 - val_loss: 1.0242 - val_accuracy: 0.4940\n",
      "Epoch 13/20\n",
      "2/2 [==============================] - 0s 20ms/step - loss: 1.0248 - accuracy: 0.4697 - val_loss: 1.0268 - val_accuracy: 0.5320\n",
      "Epoch 14/20\n",
      "2/2 [==============================] - 0s 21ms/step - loss: 1.0269 - accuracy: 0.4768 - val_loss: 1.0273 - val_accuracy: 0.5140\n",
      "Epoch 15/20\n",
      "2/2 [==============================] - 0s 21ms/step - loss: 1.0248 - accuracy: 0.4756 - val_loss: 1.0213 - val_accuracy: 0.5276\n",
      "Epoch 16/20\n",
      "2/2 [==============================] - 0s 19ms/step - loss: 1.0208 - accuracy: 0.5101 - val_loss: 1.0321 - val_accuracy: 0.4368\n",
      "Epoch 17/20\n",
      "2/2 [==============================] - 0s 20ms/step - loss: 1.0317 - accuracy: 0.4423 - val_loss: 1.0249 - val_accuracy: 0.4168\n",
      "Epoch 18/20\n",
      "2/2 [==============================] - 0s 19ms/step - loss: 1.0160 - accuracy: 0.4590 - val_loss: 1.0106 - val_accuracy: 0.5112\n",
      "Epoch 19/20\n",
      "2/2 [==============================] - 0s 19ms/step - loss: 1.0153 - accuracy: 0.4994 - val_loss: 1.0159 - val_accuracy: 0.4848\n",
      "Epoch 20/20\n",
      "2/2 [==============================] - 0s 21ms/step - loss: 1.0134 - accuracy: 0.4780 - val_loss: 1.0110 - val_accuracy: 0.5244\n"
     ]
    }
   ],
   "source": [
    "history = model.fit(partial_x_train,\n",
    "                    partial_y_train,\n",
    "                    epochs=20,\n",
    "                    batch_size=512,\n",
    "                    validation_data=(x_val, y_val))"
   ]
  },
  {
   "cell_type": "markdown",
   "id": "e4e72cbe",
   "metadata": {},
   "source": [
    "I can immediately see that the accuracy is much better than a random guess which would have been at .33"
   ]
  },
  {
   "cell_type": "markdown",
   "id": "f08b3a21",
   "metadata": {},
   "source": [
    "Plotting training and validation loss"
   ]
  },
  {
   "cell_type": "code",
   "execution_count": 1270,
   "id": "d8c74c90",
   "metadata": {},
   "outputs": [
    {
     "data": {
      "image/png": "[encoded data removed]",
      "text/plain": [
       "<Figure size 432x288 with 1 Axes>"
      ]
     },
     "metadata": {
      "needs_background": "light"
     },
     "output_type": "display_data"
    }
   ],
   "source": [
    "loss = history.history['loss']\n",
    "val_loss = history.history['val_loss']\n",
    "epochs = range(1, len(loss) + 1)\n",
    "plt.plot(epochs, loss, 'bo', label='Training loss')\n",
    "plt.plot(epochs, val_loss, 'b', label='Validation loss')\n",
    "plt.title('Training and validation loss')\n",
    "plt.xlabel('Epochs')\n",
    "plt.ylabel('Loss')\n",
    "plt.legend()\n",
    "plt.show()"
   ]
  },
  {
   "cell_type": "markdown",
   "id": "90d58265",
   "metadata": {},
   "source": [
    "I can see that the training and validation loss are decreasing with epoch which means that this model is not overfit since both the validation loss and training loss are decreasing"
   ]
  },
  {
   "cell_type": "markdown",
   "id": "49aa28da",
   "metadata": {},
   "source": [
    "Plotting training and validation accuracy"
   ]
  },
  {
   "cell_type": "code",
   "execution_count": 1271,
   "id": "017d1eed",
   "metadata": {},
   "outputs": [
    {
     "data": {
      "image/png": "[encoded data removed]",
      "text/plain": [
       "<Figure size 432x288 with 1 Axes>"
      ]
     },
     "metadata": {
      "needs_background": "light"
     },
     "output_type": "display_data"
    }
   ],
   "source": [
    "plt.clf()\n",
    "acc = history.history['accuracy']\n",
    "val_acc = history.history['val_accuracy']\n",
    "plt.plot(epochs, acc, 'bo', label='Training acc')\n",
    "plt.plot(epochs, val_acc, 'b', label='Validation acc')\n",
    "plt.title('Training and validation accuracy')\n",
    "plt.xlabel('Epochs')\n",
    "plt.ylabel('Accuracy')\n",
    "plt.legend()\n",
    "plt.show()"
   ]
  },
  {
   "cell_type": "markdown",
   "id": "4e89efbb",
   "metadata": {},
   "source": [
    "While the validation and traing accuracy in this is jumping around I can still see a general up-trend in both accuracies"
   ]
  },
  {
   "cell_type": "markdown",
   "id": "df004f18",
   "metadata": {},
   "source": [
    "Retraining the model"
   ]
  },
  {
   "cell_type": "code",
   "execution_count": 1119,
   "id": "5bd07435",
   "metadata": {},
   "outputs": [
    {
     "name": "stdout",
     "output_type": "stream",
     "text": [
      "Epoch 1/9\n",
      "4/4 [==============================] - 1s 33ms/step - loss: 1.1165 - accuracy: 0.3422 - val_loss: 1.0776 - val_accuracy: 0.3593\n",
      "Epoch 2/9\n",
      "4/4 [==============================] - 0s 7ms/step - loss: 1.0819 - accuracy: 0.3585 - val_loss: 1.0812 - val_accuracy: 0.3620\n",
      "Epoch 3/9\n",
      "4/4 [==============================] - 0s 7ms/step - loss: 1.0754 - accuracy: 0.3552 - val_loss: 1.0853 - val_accuracy: 0.4027\n",
      "Epoch 4/9\n",
      "4/4 [==============================] - 0s 7ms/step - loss: 1.0739 - accuracy: 0.3900 - val_loss: 1.0671 - val_accuracy: 0.3627\n",
      "Epoch 5/9\n",
      "4/4 [==============================] - 0s 6ms/step - loss: 1.0701 - accuracy: 0.3449 - val_loss: 1.0636 - val_accuracy: 0.4893\n",
      "Epoch 6/9\n",
      "4/4 [==============================] - 0s 7ms/step - loss: 1.0606 - accuracy: 0.4264 - val_loss: 1.0784 - val_accuracy: 0.3667\n",
      "Epoch 7/9\n",
      "4/4 [==============================] - 0s 7ms/step - loss: 1.0636 - accuracy: 0.4117 - val_loss: 1.0577 - val_accuracy: 0.5073\n",
      "Epoch 8/9\n",
      "4/4 [==============================] - 0s 7ms/step - loss: 1.0517 - accuracy: 0.4709 - val_loss: 1.0532 - val_accuracy: 0.3780\n",
      "Epoch 9/9\n",
      "4/4 [==============================] - 0s 6ms/step - loss: 1.0583 - accuracy: 0.4172 - val_loss: 1.0412 - val_accuracy: 0.4260\n",
      "27/27 [==============================] - 0s 538us/step - loss: 1.0369 - accuracy: 0.4342\n"
     ]
    },
    {
     "data": {
      "text/plain": [
       "[1.0368638038635254, 0.43421053886413574]"
      ]
     },
     "execution_count": 1119,
     "metadata": {},
     "output_type": "execute_result"
    }
   ],
   "source": [
    "model = models.Sequential()\n",
    "model.add(layers.Dense(64, activation='relu', input_shape=(7,)))\n",
    "model.add(layers.Dense(64, activation='relu'))\n",
    "model.add(layers.Dense(3, activation='softmax'))\n",
    "model.compile(optimizer='rmsprop',\n",
    "                loss='categorical_crossentropy',\n",
    "                metrics=['accuracy'])\n",
    "model.fit(partial_x_train,\n",
    "partial_y_train,\n",
    "epochs=9,\n",
    "batch_size=512,\n",
    "validation_data=(x_val, y_val))\n",
    "results = model.evaluate(x_test, y_test)\n",
    "results\n"
   ]
  },
  {
   "cell_type": "markdown",
   "id": "4d93f930",
   "metadata": {},
   "source": [
    "While the accuracy of predicting the sex category is low, it is better than a random guess which would be only .33. I can also see that it is improving with each epoch. This also shows that more epochs is beneficial for this model as the accuracy at 20 epochs was much higher than it was at 9\n",
    "\n",
    "Generating predictions"
   ]
  },
  {
   "cell_type": "code",
   "execution_count": 1127,
   "id": "25546c91",
   "metadata": {},
   "outputs": [
    {
     "data": {
      "text/plain": [
       "array([[0.32623664, 0.29599836, 0.37776503],\n",
       "       [0.33672205, 0.27075985, 0.3925181 ],\n",
       "       [0.35097188, 0.21205726, 0.43697086],\n",
       "       ...,\n",
       "       [0.3363444 , 0.26981193, 0.39384368],\n",
       "       [0.33205104, 0.28562108, 0.38232788],\n",
       "       [0.32800186, 0.29835463, 0.37364352]], dtype=float32)"
      ]
     },
     "execution_count": 1127,
     "metadata": {},
     "output_type": "execute_result"
    }
   ],
   "source": [
    "\n",
    "predictions = model.predict(x_test)\n",
    "predictions"
   ]
  },
  {
   "cell_type": "markdown",
   "id": "61390fcc",
   "metadata": {},
   "source": [
    "Bottleneck information "
   ]
  },
  {
   "cell_type": "code",
   "execution_count": 1128,
   "id": "2105482a",
   "metadata": {},
   "outputs": [
    {
     "name": "stdout",
     "output_type": "stream",
     "text": [
      "Epoch 1/20\n",
      "15/15 [==============================] - 0s 7ms/step - loss: 1.2974 - accuracy: 0.3683 - val_loss: 1.1071 - val_accuracy: 0.3667\n",
      "Epoch 2/20\n",
      "15/15 [==============================] - 0s 2ms/step - loss: 1.1011 - accuracy: 0.3379 - val_loss: 1.0995 - val_accuracy: 0.3247\n",
      "Epoch 3/20\n",
      "15/15 [==============================] - 0s 2ms/step - loss: 1.0992 - accuracy: 0.3308 - val_loss: 1.0991 - val_accuracy: 0.3100\n",
      "Epoch 4/20\n",
      "15/15 [==============================] - 0s 2ms/step - loss: 1.0987 - accuracy: 0.3400 - val_loss: 1.0989 - val_accuracy: 0.3100\n",
      "Epoch 5/20\n",
      "15/15 [==============================] - 0s 2ms/step - loss: 1.0982 - accuracy: 0.3400 - val_loss: 1.0987 - val_accuracy: 0.3100\n",
      "Epoch 6/20\n",
      "15/15 [==============================] - 0s 2ms/step - loss: 1.0977 - accuracy: 0.3357 - val_loss: 1.0986 - val_accuracy: 0.3100\n",
      "Epoch 7/20\n",
      "15/15 [==============================] - 0s 2ms/step - loss: 1.0973 - accuracy: 0.3547 - val_loss: 1.0985 - val_accuracy: 0.3620\n",
      "Epoch 8/20\n",
      "15/15 [==============================] - 0s 2ms/step - loss: 1.0969 - accuracy: 0.3634 - val_loss: 1.0984 - val_accuracy: 0.3620\n",
      "Epoch 9/20\n",
      "15/15 [==============================] - 0s 2ms/step - loss: 1.0966 - accuracy: 0.3634 - val_loss: 1.0984 - val_accuracy: 0.3620\n",
      "Epoch 10/20\n",
      "15/15 [==============================] - 0s 2ms/step - loss: 1.0964 - accuracy: 0.3634 - val_loss: 1.0984 - val_accuracy: 0.3620\n",
      "Epoch 11/20\n",
      "15/15 [==============================] - 0s 2ms/step - loss: 1.0961 - accuracy: 0.3634 - val_loss: 1.0984 - val_accuracy: 0.3620\n",
      "Epoch 12/20\n",
      "15/15 [==============================] - 0s 2ms/step - loss: 1.0960 - accuracy: 0.3634 - val_loss: 1.0985 - val_accuracy: 0.3620\n",
      "Epoch 13/20\n",
      "15/15 [==============================] - 0s 2ms/step - loss: 1.0958 - accuracy: 0.3634 - val_loss: 1.0986 - val_accuracy: 0.3620\n",
      "Epoch 14/20\n",
      "15/15 [==============================] - 0s 2ms/step - loss: 1.0958 - accuracy: 0.3634 - val_loss: 1.0987 - val_accuracy: 0.3620\n",
      "Epoch 15/20\n",
      "15/15 [==============================] - 0s 2ms/step - loss: 1.0956 - accuracy: 0.3634 - val_loss: 1.0988 - val_accuracy: 0.3620\n",
      "Epoch 16/20\n",
      "15/15 [==============================] - 0s 2ms/step - loss: 1.0956 - accuracy: 0.3634 - val_loss: 1.0988 - val_accuracy: 0.3620\n",
      "Epoch 17/20\n",
      "15/15 [==============================] - 0s 2ms/step - loss: 1.0955 - accuracy: 0.3634 - val_loss: 1.0988 - val_accuracy: 0.3620\n",
      "Epoch 18/20\n",
      "15/15 [==============================] - 0s 2ms/step - loss: 1.0955 - accuracy: 0.3634 - val_loss: 1.0988 - val_accuracy: 0.3620\n",
      "Epoch 19/20\n",
      "15/15 [==============================] - 0s 2ms/step - loss: 1.0954 - accuracy: 0.3634 - val_loss: 1.0988 - val_accuracy: 0.3620\n",
      "Epoch 20/20\n",
      "15/15 [==============================] - 0s 2ms/step - loss: 1.0954 - accuracy: 0.3634 - val_loss: 1.0988 - val_accuracy: 0.3620\n",
      "27/27 [==============================] - 0s 538us/step - loss: 1.0974 - accuracy: 0.3780\n"
     ]
    },
    {
     "data": {
      "text/plain": [
       "[1.0973566770553589, 0.3779904246330261]"
      ]
     },
     "execution_count": 1128,
     "metadata": {},
     "output_type": "execute_result"
    }
   ],
   "source": [
    "model = models.Sequential()\n",
    "model.add(layers.Dense(64, activation='relu', input_shape=(7,)))\n",
    "model.add(layers.Dense(2, activation='relu'))\n",
    "model.add(layers.Dense(3, activation='softmax'))\n",
    "model.compile(optimizer='rmsprop',\n",
    "                loss='categorical_crossentropy',\n",
    "                metrics=['accuracy'])\n",
    "model.fit(partial_x_train,\n",
    "            partial_y_train,\n",
    "            epochs=20,\n",
    "            batch_size=128,\n",
    "            validation_data=(x_val, y_val))\n",
    "results = model.evaluate(x_test, y_test)\n",
    "results"
   ]
  },
  {
   "cell_type": "markdown",
   "id": "21a2a0bb",
   "metadata": {},
   "source": [
    "I can see that the accuracy is much lower now because of the bottleneck and is now almost the same as a random guess"
   ]
  },
  {
   "cell_type": "markdown",
   "id": "6541cba8",
   "metadata": {},
   "source": [
    "## A Regression example"
   ]
  },
  {
   "cell_type": "markdown",
   "id": "f77c6483",
   "metadata": {},
   "source": [
    "Continuing from the same dataset as the multiclassification model, I will be building a regression model to determine the length of an albacore"
   ]
  },
  {
   "cell_type": "code",
   "execution_count": 1153,
   "id": "8229e0cd",
   "metadata": {},
   "outputs": [
    {
     "data": {
      "text/html": [
       "<div>\n",
       "<style scoped>\n",
       "    .dataframe tbody tr th:only-of-type {\n",
       "        vertical-align: middle;\n",
       "    }\n",
       "\n",
       "    .dataframe tbody tr th {\n",
       "        vertical-align: top;\n",
       "    }\n",
       "\n",
       "    .dataframe thead th {\n",
       "        text-align: right;\n",
       "    }\n",
       "</style>\n",
       "<table border=\"1\" class=\"dataframe\">\n",
       "  <thead>\n",
       "    <tr style=\"text-align: right;\">\n",
       "      <th></th>\n",
       "      <th>Sex</th>\n",
       "      <th>Length</th>\n",
       "      <th>Diameter</th>\n",
       "      <th>Height</th>\n",
       "      <th>Whole weight</th>\n",
       "      <th>Shucked weight</th>\n",
       "      <th>Viscera weight</th>\n",
       "      <th>Shell weight</th>\n",
       "      <th>Rings</th>\n",
       "      <th>Sex_code</th>\n",
       "    </tr>\n",
       "  </thead>\n",
       "  <tbody>\n",
       "    <tr>\n",
       "      <th>0</th>\n",
       "      <td>M</td>\n",
       "      <td>0.455</td>\n",
       "      <td>0.365</td>\n",
       "      <td>0.095</td>\n",
       "      <td>0.5140</td>\n",
       "      <td>0.2245</td>\n",
       "      <td>0.1010</td>\n",
       "      <td>0.150</td>\n",
       "      <td>15</td>\n",
       "      <td>2</td>\n",
       "    </tr>\n",
       "    <tr>\n",
       "      <th>1</th>\n",
       "      <td>M</td>\n",
       "      <td>0.350</td>\n",
       "      <td>0.265</td>\n",
       "      <td>0.090</td>\n",
       "      <td>0.2255</td>\n",
       "      <td>0.0995</td>\n",
       "      <td>0.0485</td>\n",
       "      <td>0.070</td>\n",
       "      <td>7</td>\n",
       "      <td>2</td>\n",
       "    </tr>\n",
       "    <tr>\n",
       "      <th>2</th>\n",
       "      <td>F</td>\n",
       "      <td>0.530</td>\n",
       "      <td>0.420</td>\n",
       "      <td>0.135</td>\n",
       "      <td>0.6770</td>\n",
       "      <td>0.2565</td>\n",
       "      <td>0.1415</td>\n",
       "      <td>0.210</td>\n",
       "      <td>9</td>\n",
       "      <td>0</td>\n",
       "    </tr>\n",
       "    <tr>\n",
       "      <th>3</th>\n",
       "      <td>M</td>\n",
       "      <td>0.440</td>\n",
       "      <td>0.365</td>\n",
       "      <td>0.125</td>\n",
       "      <td>0.5160</td>\n",
       "      <td>0.2155</td>\n",
       "      <td>0.1140</td>\n",
       "      <td>0.155</td>\n",
       "      <td>10</td>\n",
       "      <td>2</td>\n",
       "    </tr>\n",
       "    <tr>\n",
       "      <th>4</th>\n",
       "      <td>I</td>\n",
       "      <td>0.330</td>\n",
       "      <td>0.255</td>\n",
       "      <td>0.080</td>\n",
       "      <td>0.2050</td>\n",
       "      <td>0.0895</td>\n",
       "      <td>0.0395</td>\n",
       "      <td>0.055</td>\n",
       "      <td>7</td>\n",
       "      <td>1</td>\n",
       "    </tr>\n",
       "  </tbody>\n",
       "</table>\n",
       "</div>"
      ],
      "text/plain": [
       "  Sex  Length  Diameter  Height  Whole weight  Shucked weight  Viscera weight  \\\n",
       "0   M   0.455     0.365   0.095        0.5140          0.2245          0.1010   \n",
       "1   M   0.350     0.265   0.090        0.2255          0.0995          0.0485   \n",
       "2   F   0.530     0.420   0.135        0.6770          0.2565          0.1415   \n",
       "3   M   0.440     0.365   0.125        0.5160          0.2155          0.1140   \n",
       "4   I   0.330     0.255   0.080        0.2050          0.0895          0.0395   \n",
       "\n",
       "   Shell weight  Rings  Sex_code  \n",
       "0         0.150     15         2  \n",
       "1         0.070      7         2  \n",
       "2         0.210      9         0  \n",
       "3         0.155     10         2  \n",
       "4         0.055      7         1  "
      ]
     },
     "execution_count": 1153,
     "metadata": {},
     "output_type": "execute_result"
    }
   ],
   "source": [
    "db.head()"
   ]
  },
  {
   "cell_type": "code",
   "execution_count": 1154,
   "id": "653e9100",
   "metadata": {},
   "outputs": [
    {
     "data": {
      "text/html": [
       "<div>\n",
       "<style scoped>\n",
       "    .dataframe tbody tr th:only-of-type {\n",
       "        vertical-align: middle;\n",
       "    }\n",
       "\n",
       "    .dataframe tbody tr th {\n",
       "        vertical-align: top;\n",
       "    }\n",
       "\n",
       "    .dataframe thead th {\n",
       "        text-align: right;\n",
       "    }\n",
       "</style>\n",
       "<table border=\"1\" class=\"dataframe\">\n",
       "  <thead>\n",
       "    <tr style=\"text-align: right;\">\n",
       "      <th></th>\n",
       "      <th>Sex_code</th>\n",
       "      <th>Diameter</th>\n",
       "      <th>Height</th>\n",
       "      <th>Shucked weight</th>\n",
       "      <th>Viscera weight</th>\n",
       "      <th>Shell weight</th>\n",
       "      <th>Rings</th>\n",
       "    </tr>\n",
       "  </thead>\n",
       "  <tbody>\n",
       "    <tr>\n",
       "      <th>3288</th>\n",
       "      <td>0</td>\n",
       "      <td>0.475</td>\n",
       "      <td>0.145</td>\n",
       "      <td>0.4695</td>\n",
       "      <td>0.2250</td>\n",
       "      <td>0.270</td>\n",
       "      <td>15</td>\n",
       "    </tr>\n",
       "    <tr>\n",
       "      <th>2268</th>\n",
       "      <td>0</td>\n",
       "      <td>0.445</td>\n",
       "      <td>0.175</td>\n",
       "      <td>0.3465</td>\n",
       "      <td>0.1890</td>\n",
       "      <td>0.295</td>\n",
       "      <td>13</td>\n",
       "    </tr>\n",
       "    <tr>\n",
       "      <th>3259</th>\n",
       "      <td>2</td>\n",
       "      <td>0.505</td>\n",
       "      <td>0.165</td>\n",
       "      <td>0.6145</td>\n",
       "      <td>0.3035</td>\n",
       "      <td>0.390</td>\n",
       "      <td>18</td>\n",
       "    </tr>\n",
       "    <tr>\n",
       "      <th>2116</th>\n",
       "      <td>1</td>\n",
       "      <td>0.225</td>\n",
       "      <td>0.050</td>\n",
       "      <td>0.0675</td>\n",
       "      <td>0.0385</td>\n",
       "      <td>0.045</td>\n",
       "      <td>6</td>\n",
       "    </tr>\n",
       "    <tr>\n",
       "      <th>2088</th>\n",
       "      <td>0</td>\n",
       "      <td>0.575</td>\n",
       "      <td>0.215</td>\n",
       "      <td>0.8565</td>\n",
       "      <td>0.4825</td>\n",
       "      <td>0.602</td>\n",
       "      <td>12</td>\n",
       "    </tr>\n",
       "    <tr>\n",
       "      <th>...</th>\n",
       "      <td>...</td>\n",
       "      <td>...</td>\n",
       "      <td>...</td>\n",
       "      <td>...</td>\n",
       "      <td>...</td>\n",
       "      <td>...</td>\n",
       "      <td>...</td>\n",
       "    </tr>\n",
       "    <tr>\n",
       "      <th>2959</th>\n",
       "      <td>0</td>\n",
       "      <td>0.525</td>\n",
       "      <td>0.160</td>\n",
       "      <td>0.4975</td>\n",
       "      <td>0.3190</td>\n",
       "      <td>0.394</td>\n",
       "      <td>13</td>\n",
       "    </tr>\n",
       "    <tr>\n",
       "      <th>2002</th>\n",
       "      <td>1</td>\n",
       "      <td>0.270</td>\n",
       "      <td>0.085</td>\n",
       "      <td>0.0905</td>\n",
       "      <td>0.0340</td>\n",
       "      <td>0.053</td>\n",
       "      <td>7</td>\n",
       "    </tr>\n",
       "    <tr>\n",
       "      <th>1539</th>\n",
       "      <td>1</td>\n",
       "      <td>0.260</td>\n",
       "      <td>0.090</td>\n",
       "      <td>0.0715</td>\n",
       "      <td>0.0495</td>\n",
       "      <td>0.058</td>\n",
       "      <td>7</td>\n",
       "    </tr>\n",
       "    <tr>\n",
       "      <th>3817</th>\n",
       "      <td>2</td>\n",
       "      <td>0.385</td>\n",
       "      <td>0.120</td>\n",
       "      <td>0.2890</td>\n",
       "      <td>0.0905</td>\n",
       "      <td>0.153</td>\n",
       "      <td>8</td>\n",
       "    </tr>\n",
       "    <tr>\n",
       "      <th>2372</th>\n",
       "      <td>0</td>\n",
       "      <td>0.325</td>\n",
       "      <td>0.110</td>\n",
       "      <td>0.1450</td>\n",
       "      <td>0.0725</td>\n",
       "      <td>0.110</td>\n",
       "      <td>12</td>\n",
       "    </tr>\n",
       "  </tbody>\n",
       "</table>\n",
       "<p>3341 rows × 7 columns</p>\n",
       "</div>"
      ],
      "text/plain": [
       "      Sex_code  Diameter  Height  Shucked weight  Viscera weight  \\\n",
       "3288         0     0.475   0.145          0.4695          0.2250   \n",
       "2268         0     0.445   0.175          0.3465          0.1890   \n",
       "3259         2     0.505   0.165          0.6145          0.3035   \n",
       "2116         1     0.225   0.050          0.0675          0.0385   \n",
       "2088         0     0.575   0.215          0.8565          0.4825   \n",
       "...        ...       ...     ...             ...             ...   \n",
       "2959         0     0.525   0.160          0.4975          0.3190   \n",
       "2002         1     0.270   0.085          0.0905          0.0340   \n",
       "1539         1     0.260   0.090          0.0715          0.0495   \n",
       "3817         2     0.385   0.120          0.2890          0.0905   \n",
       "2372         0     0.325   0.110          0.1450          0.0725   \n",
       "\n",
       "      Shell weight  Rings  \n",
       "3288         0.270     15  \n",
       "2268         0.295     13  \n",
       "3259         0.390     18  \n",
       "2116         0.045      6  \n",
       "2088         0.602     12  \n",
       "...            ...    ...  \n",
       "2959         0.394     13  \n",
       "2002         0.053      7  \n",
       "1539         0.058      7  \n",
       "3817         0.153      8  \n",
       "2372         0.110     12  \n",
       "\n",
       "[3341 rows x 7 columns]"
      ]
     },
     "execution_count": 1154,
     "metadata": {},
     "output_type": "execute_result"
    }
   ],
   "source": [
    "predictors=[\"Sex_code\", \"Diameter\", \"Height\", \"Shucked weight\", \"Viscera weight\", \"Shell weight\", \"Rings\"]\n",
    "x_train, x_test, y_train, y_test =train_test_split(db[predictors], db[\"Length\"], test_size=.2)\n",
    "x_train\n"
   ]
  },
  {
   "cell_type": "markdown",
   "id": "00f9b582",
   "metadata": {},
   "source": [
    "Normalizing the data"
   ]
  },
  {
   "cell_type": "code",
   "execution_count": 1155,
   "id": "7958dc10",
   "metadata": {},
   "outputs": [],
   "source": [
    "zScore=StandardScaler()\n",
    "x_train=zScore.fit_transform(x_train)\n",
    "x_test=zScore.fit_transform(x_test)\n",
    "y_train = y_train.to_numpy()\n",
    "y_test = y_test.to_numpy()"
   ]
  },
  {
   "cell_type": "markdown",
   "id": "2376ab80",
   "metadata": {},
   "source": [
    "Defining the model. I'm using a function since we are likely going to have to build it multiple times. No activation is used since it would constrain the range of outputs"
   ]
  },
  {
   "cell_type": "code",
   "execution_count": 1157,
   "id": "13328f08",
   "metadata": {},
   "outputs": [],
   "source": [
    "def build_model():\n",
    "    model = models.Sequential()\n",
    "    model.add(layers.Dense(64, activation='relu',\n",
    "    input_shape=(x_train.shape[1],)))\n",
    "    model.add(layers.Dense(64, activation='relu'))\n",
    "    model.add(layers.Dense(1))\n",
    "    model.compile(optimizer='rmsprop', loss='mse', metrics=['mae'])\n",
    "    return model"
   ]
  },
  {
   "cell_type": "markdown",
   "id": "8821ecd1",
   "metadata": {},
   "source": [
    "Using K-Fold validation"
   ]
  },
  {
   "cell_type": "code",
   "execution_count": 1158,
   "id": "9a7e83ba",
   "metadata": {},
   "outputs": [],
   "source": [
    "k=4\n",
    "num_val_samples = len(x_train) // k\n",
    "num_epochs = 100\n",
    "all_scores = []"
   ]
  },
  {
   "cell_type": "code",
   "execution_count": 1159,
   "id": "8aa9fcb9",
   "metadata": {},
   "outputs": [
    {
     "name": "stdout",
     "output_type": "stream",
     "text": [
      "processing fold # 0\n",
      "processing fold # 1\n",
      "processing fold # 2\n",
      "processing fold # 3\n"
     ]
    }
   ],
   "source": [
    "num_epochs = 500\n",
    "all_mae_histories = []\n",
    "for i in range(k):\n",
    "    print('processing fold #', i)\n",
    "    val_data = x_train[i * num_val_samples: (i + 1) * num_val_samples]\n",
    "    val_targets = y_train[i * num_val_samples: (i + 1) * num_val_samples]\n",
    "    partial_train_data = np.concatenate(\n",
    "        [x_train[:i * num_val_samples],\n",
    "        x_train[(i + 1) * num_val_samples:]],\n",
    "        axis=0)\n",
    "    partial_train_targets = np.concatenate(\n",
    "        [y_train[:i * num_val_samples],\n",
    "        y_train[(i + 1) * num_val_samples:]],\n",
    "        axis=0)\n",
    "    model = build_model()\n",
    "    history = model.fit(partial_train_data, partial_train_targets,\n",
    "                validation_data=(val_data, val_targets),\n",
    "                epochs=num_epochs, batch_size=1, verbose=0)\n",
    "    mae_history = history.history['val_mae']\n",
    "    all_mae_histories.append(mae_history)\n",
    "average_mae_history = [np.mean([x[i] for x in all_mae_histories]) for i in range(num_epochs)]"
   ]
  },
  {
   "cell_type": "markdown",
   "id": "de262ee4",
   "metadata": {},
   "source": [
    "Plotting validation scores"
   ]
  },
  {
   "cell_type": "code",
   "execution_count": 1160,
   "id": "6862e8bc",
   "metadata": {},
   "outputs": [
    {
     "data": {
      "image/png": "[encoded data removed]",
      "text/plain": [
       "<Figure size 432x288 with 1 Axes>"
      ]
     },
     "metadata": {
      "needs_background": "light"
     },
     "output_type": "display_data"
    }
   ],
   "source": [
    "plt.plot(range(1, len(average_mae_history) + 1), average_mae_history)\n",
    "plt.xlabel('Epochs')\n",
    "plt.ylabel('Validation MAE')\n",
    "plt.show()"
   ]
  },
  {
   "cell_type": "code",
   "execution_count": 1161,
   "id": "93138c5d",
   "metadata": {},
   "outputs": [
    {
     "data": {
      "image/png": "[encoded data removed]",
      "text/plain": [
       "<Figure size 432x288 with 1 Axes>"
      ]
     },
     "metadata": {
      "needs_background": "light"
     },
     "output_type": "display_data"
    }
   ],
   "source": [
    "def smooth_curve(points, factor=0.9):\n",
    "    smoothed_points = []\n",
    "    for point in points:\n",
    "        if smoothed_points:\n",
    "            previous = smoothed_points[-1]\n",
    "            smoothed_points.append(previous * factor + point * (1 - factor))\n",
    "        else:\n",
    "            smoothed_points.append(point)\n",
    "    return smoothed_points\n",
    "smooth_mae_history = smooth_curve(average_mae_history[10:])\n",
    "plt.plot(range(1, len(smooth_mae_history) + 1), smooth_mae_history)\n",
    "plt.xlabel('Epochs')\n",
    "plt.ylabel('Validation MAE')\n",
    "plt.show()"
   ]
  },
  {
   "cell_type": "markdown",
   "id": "14457da4",
   "metadata": {},
   "source": [
    "The Validation MAE stops getting better after around 60 epochs, so there is not need to go past that"
   ]
  },
  {
   "cell_type": "code",
   "execution_count": 1167,
   "id": "54a326e4",
   "metadata": {},
   "outputs": [
    {
     "name": "stdout",
     "output_type": "stream",
     "text": [
      "27/27 [==============================] - 0s 629us/step - loss: 3.6256e-04 - mae: 0.0150\n"
     ]
    },
    {
     "data": {
      "text/plain": [
       "0.01500716619193554"
      ]
     },
     "execution_count": 1167,
     "metadata": {},
     "output_type": "execute_result"
    }
   ],
   "source": [
    "model = build_model()\n",
    "model.fit(x_train, y_train,\n",
    "    epochs=60, batch_size=16, verbose=0)\n",
    "test_mse_score, test_mae_score = model.evaluate(x_test, y_test)\n",
    "test_mae_score"
   ]
  },
  {
   "cell_type": "code",
   "execution_count": null,
   "id": "abe6abce",
   "metadata": {},
   "outputs": [],
   "source": []
  }
 ],
 "metadata": {
  "kernelspec": {
   "display_name": "Python 3 (ipykernel)",
   "language": "python",
   "name": "python3"
  },
  "language_info": {
   "codemirror_mode": {
    "name": "ipython",
    "version": 3
   },
   "file_extension": ".py",
   "mimetype": "text/x-python",
   "name": "python",
   "nbconvert_exporter": "python",
   "pygments_lexer": "ipython3",
   "version": "3.9.4"
  }
 },
 "nbformat": 4,
 "nbformat_minor": 5
}
